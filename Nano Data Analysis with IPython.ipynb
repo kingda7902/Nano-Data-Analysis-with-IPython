{
 "metadata": {
  "name": "",
  "signature": "sha256:0c1b706bea256dba59abc6182c9515dc5718cea3f8231986c1ca66b701beec6b"
 },
 "nbformat": 3,
 "nbformat_minor": 0,
 "worksheets": [
  {
   "cells": [
    {
     "cell_type": "markdown",
     "metadata": {},
     "source": [
      "# Nano Data Analysis with IPython\n",
      "\n",
      "\n",
      "\n",
      "\n",
      "## \u8521\u708e\u9f8d\n",
      "\n",
      "### \u653f\u6cbb\u5927\u5b78\u61c9\u7528\u6578\u5b78\u7cfb\n",
      "### 2014 \u5e74\u65bc\u975c\u5b9c\u5927\u5b78\u8ca1\u52d9\u8207\u8a08\u7b97\u6578\u5b78\u7cfb\n",
      "\n",
      "\n",
      "\n",
      "\n",
      "\n",
      "\n",
      "\n",
      "\n",
      "\n",
      "\n",
      "\n",
      "\n"
     ]
    },
    {
     "cell_type": "markdown",
     "metadata": {},
     "source": [
      "##1. Python \u9019\u500b\u7a0b\u5f0f\u8a9e\u8a00"
     ]
    },
    {
     "cell_type": "markdown",
     "metadata": {},
     "source": [
      "### 1-1 Python \u662f\u4ec0\u9ebc?\n",
      "\n",
      "\u7531 Guido van Rossum \u8a2d\u8a08\u7684\u7c21\u55ae\u6613\u5b78\u3001\u5168\u65b9\u4f4d\u7a0b\u5f0f\u8a9e\u8a00! \u4f7f\u7528 Python \u7684\u6709 YouTube, Google, Yahoo, \u8fea\u58eb\u5c3c, \u8718\u86db\u4eba (\u96fb\u5f71), NASA, \u751a\u81f3\u5728 2014 \u5e74\u662f\u5168\u7f8e\u5927\u5b78\u4ecb\u7d39\u7a0b\u5f0f\u8a2d\u8a08\u6700\u4e3b\u6d41\u8a9e\u8a00!\n",
      "\n",
      "\u5728\u8cc7\u6599\u5206\u6790\u4e2d, Python, R, SAS \u5927\u6982\u662f\u4e09\u5927, \u800c Python \u662f\u7576\u4e2d\u552f\u4e00\u5168\u529f\u80fd\u7a0b\u5f0f\u8a9e\u8a00!"
     ]
    },
    {
     "cell_type": "markdown",
     "metadata": {},
     "source": [
      "### 1-2 IPython \u662f\u4ec0\u9ebc?\n",
      "\n",
      "IPython \u662f Python \u7684\u4e00\u500b\u524d\u7aef (front) \u754c\u9762\u3002IPython Notebook \u754c\u9762\u975e\u5e38\u597d\u7528, \u4e0d\u4f46\u53ef\u4ee5\u8b93\u4f60\u7528 Python, \u9084\u53ef\u4ee5\u540c\u6642\u8b93\u4f60\u8a18\u7b46\u8a18! \u539f\u5275\u8005 Fernado Perez \u662f\u7269\u7406\u5b78\u535a\u58eb, \u76ee\u524d\u9084\u662f IPython \u8a08\u756b\u9818\u5c0e\u8005\u3002\n",
      "\n",
      "\u4f60\u53ef\u4ee5\u76f4\u63a5\u770b\u4ed6\u5728\u4eca\u5e74 (2014) \u5728\u53f0\u7063 PyCon APAC \u7684\u6f14\u8b1b!\n",
      "\n",
      "[Open Source and Open Science (YouTube)](http://youtu.be/ZD5n9s8PGtI)\n",
      "\n",
      "\u9019\u5f35\u7167\u7247\u662f\u6703\u5f8c\u5305\u62ec Fernado \u5728\u5167\u7684\u5e7e\u4f4d\u4f7f\u7528 Python \u505a\u79d1\u5b78\u8a08\u7b97\u7684\u5b78\u8005\u5c08\u5bb6\u5230\u6771\u83ef\u5927\u5b78\u8a8d\u771f\u8a0e\u8ad6 (?) \u7684\u6a23\u5b50\u3002\n",
      "\n",
      "![Fernado](images/fernado.jpg)"
     ]
    },
    {
     "cell_type": "markdown",
     "metadata": {},
     "source": [
      "### 1-3 \u5b89\u88dd\u4f60\u7684 Python (\u548c IPython)\n",
      "\n",
      "\u6211\u5011\u63a8\u85a6\u4f7f\u7528 Anaconda \u7684 Python \u7248\u672c, \u56e0\u70ba\u9019\u500b\u7248\u672c\u5e6b\u4f60\u628a\u8a31\u591a\u5957\u4ef6 (\u5c24\u5176\u662f\u79d1\u5b78\u8a08\u7b97\u3001\u8cc7\u6599\u5206\u6790\u76f8\u95dc\u7684) \u90fd\u88dd\u597d\u4e86\u3002\n",
      "\n",
      "[Anaconda \u4e0b\u8f09\u5340](http://continuum.io/downloads)"
     ]
    },
    {
     "cell_type": "markdown",
     "metadata": {},
     "source": [
      "### \u5ef6\u4f38\u5b78\u7fd2\n",
      "\n",
      "\u5982\u679c\u4f60\u5c0d Python \u6709\u8208\u8da3, \u6b61\u8fce\u770b\u4eca\u5e74 (2014 \u5e74) \u6691\u5047\u6211\u5728\u4e00\u500b\u653f\u5927-\u6210\u5927\u806f\u5408\u8996\u8a0a\u5de5\u4f5c\u574a\u4ecb\u7d39\u7684 Python \u73fe\u5834\u9304\u5f71\u3002\n",
      "\n",
      "* [2014 Nano Data Anlysis with Python \u653f\u5927\u5834 1](http://youtu.be/bNOYkAh5UXE)\n",
      "* [2014 Nano Data Anlysis with Python \u653f\u5927\u5834 2](http://youtu.be/3MG9CHCCqDs)\n",
      "* [2014 Nano Data Anlysis with Python \u653f\u5927\u5834 3](http://youtu.be/Lksm2NceLz0)\n",
      "* [2014 Nano Data Anlysis with Python \u653f\u5927\u5834 4](http://youtu.be/GlK2wlW2ih0)"
     ]
    },
    {
     "cell_type": "markdown",
     "metadata": {},
     "source": [
      "##2. \u7b2c\u4e00\u6b21\u73a9 Python \u5c31\u756b\u5716"
     ]
    },
    {
     "cell_type": "markdown",
     "metadata": {},
     "source": [
      "### 2-1 \u9b54\u8853\u4f86\u4e86!\n",
      "\n",
      "\u6211\u5011\u4ecb\u7d39\u7b2c\u4e00\u500b\u3001\u4e5f\u8a31\u4e5f\u662f\u6700\u91cd\u8981\u7684, \u6703\u8b80\u5165\u91cd\u5927\u6578\u5b78\u8a08\u7b97\u3001\u756b\u5716\u529f\u80fd\u7684\u9b54\u8853\u6307\u4ee4\u3002"
     ]
    },
    {
     "cell_type": "code",
     "collapsed": false,
     "input": [
      "%pylab inline"
     ],
     "language": "python",
     "metadata": {},
     "outputs": [
      {
       "output_type": "stream",
       "stream": "stdout",
       "text": [
        "Populating the interactive namespace from numpy and matplotlib\n"
       ]
      }
     ],
     "prompt_number": 1
    },
    {
     "cell_type": "markdown",
     "metadata": {},
     "source": [
      "### 2-2 \u4e32\u5217\u662f\u57fa\u672c\u7684\u8cc7\u6599\u7d50\u69cb\n",
      "\n",
      "\u5982\u679c\u9084\u8a18\u5f97\u6211\u5011\u8981\u505a\u7684\u53eb\u8cc7\u6599\u5206\u6790, \u9019\u88e1\u9762\u5f88\u57fa\u672c\u7684\u8cc7\u6599\u578b\u5f0f\u5c31\u662f\u5982 Python \u4e2d\u7684\u4e32\u5217 (list)\u3002\u4e32\u5217\u5f88\u5bb9\u6613, \u5c31\u662f\u4e00\u5806\u6578\u5b57\u3001\u751a\u81f3\u4e0d\u4e00\u5b9a\u90fd\u8981\u6578\u5b57\u7684\u8cc7\u6599\u3002\u4f8b\u5982\u6211\u5011\u4f86\u500b\u53f0\u5317\u5e02\u5e73\u5747\u6eab\u5ea6\u3002"
     ]
    },
    {
     "cell_type": "code",
     "collapsed": false,
     "input": [
      "temp = [15.2, 15.2, 17.3, 21.0, 24.3, \n",
      "        26.7, 28.4, 28.2, 26.6, 23.3, 20.2, 17.0]"
     ],
     "language": "python",
     "metadata": {},
     "outputs": [],
     "prompt_number": 2
    },
    {
     "cell_type": "markdown",
     "metadata": {},
     "source": [
      "\u73fe\u5728\u6211\u5011\u60f3\u756b\u51fa\u4f86..."
     ]
    },
    {
     "cell_type": "code",
     "collapsed": false,
     "input": [
      "plot(temp)"
     ],
     "language": "python",
     "metadata": {},
     "outputs": [
      {
       "metadata": {},
       "output_type": "pyout",
       "prompt_number": 3,
       "text": [
        "[<matplotlib.lines.Line2D at 0x105ee7610>]"
       ]
      },
      {
       "metadata": {},
       "output_type": "display_data",
       "png": "[encoded data removed]",
       "text": [
        "<matplotlib.figure.Figure at 0x104449310>"
       ]
      }
     ],
     "prompt_number": 3
    },
    {
     "cell_type": "markdown",
     "metadata": {},
     "source": [
      "plot \u9019\u500b\u6307\u4ee4\u5176\u5be6\u5f88\u5bb9\u6613, \u57fa\u672c\u7528\u6cd5\u5c31\u662f:\n",
      "\n",
      "    plot(x \u7684\u5ea7\u6a19\u4e32\u5217, y\u3000\u7684\u5ea7\u6a19\u4e32\u5217)\n",
      "\n",
      "\u5982\u679c\u6211\u5011\u5077\u61f6, \u6c92\u6709\u653e x \u7684\u5ea7\u6a19\u4e32\u5217, \u4e5f\u53ef\u4ee5\u53ea\u653e y \u7684:\n",
      "    \n",
      "    plot(y \u7684\u5ea7\u6a19\u4e32\u5217)\n",
      "\n",
      "\u9019\u6642 Python \u6703\u81ea\u5df1\u52a0\u5165 x \u7684\u4e32\u5217\u662f [0, 1, 2, ..., n-1]\u3002\u5176\u4e2d n \u662f\u8cc7\u6599\u7684\u500b\u6578!\n",
      "\n",
      "\u4e0a\u9762\u7684\u4f8b\u5b50\u6211\u5011\u5982\u679c\u5805\u6301\u8981\u628a\u4e00\u500b\u6708\u4efd\u7684\u5ea7\u6a19\u653e\u9032\u53bb, \u53ef\u4ee5\u9019\u6a23\u8a2d\u3002"
     ]
    },
    {
     "cell_type": "code",
     "collapsed": false,
     "input": [
      "x = range(1,13)"
     ],
     "language": "python",
     "metadata": {},
     "outputs": [],
     "prompt_number": 4
    },
    {
     "cell_type": "code",
     "collapsed": false,
     "input": [
      "x"
     ],
     "language": "python",
     "metadata": {},
     "outputs": [
      {
       "metadata": {},
       "output_type": "pyout",
       "prompt_number": 5,
       "text": [
        "[1, 2, 3, 4, 5, 6, 7, 8, 9, 10, 11, 12]"
       ]
      }
     ],
     "prompt_number": 5
    },
    {
     "cell_type": "code",
     "collapsed": false,
     "input": [
      "plot(x, temp)"
     ],
     "language": "python",
     "metadata": {},
     "outputs": [
      {
       "metadata": {},
       "output_type": "pyout",
       "prompt_number": 6,
       "text": [
        "[<matplotlib.lines.Line2D at 0x10605b790>]"
       ]
      },
      {
       "metadata": {},
       "output_type": "display_data",
       "png": "[encoded data removed]",
       "text": [
        "<matplotlib.figure.Figure at 0x105eb9390>"
       ]
      }
     ],
     "prompt_number": 6
    },
    {
     "cell_type": "markdown",
     "metadata": {},
     "source": [
      "\u662f\u4e0d\u662f\u5f88\u9177? \u4ec0\u9ebc? \u4f60\u89ba\u5f97\u9577\u689d\u5716\u6bd4\u8f03\u5408\u9069? \u6c92\u554f\u984c!"
     ]
    },
    {
     "cell_type": "code",
     "collapsed": false,
     "input": [
      "bar(x,temp)"
     ],
     "language": "python",
     "metadata": {},
     "outputs": [
      {
       "metadata": {},
       "output_type": "pyout",
       "prompt_number": 7,
       "text": [
        "<Container object of 12 artists>"
       ]
      },
      {
       "metadata": {},
       "output_type": "display_data",
       "png": "[encoded data removed]",
       "text": [
        "<matplotlib.figure.Figure at 0x10604d710>"
       ]
      }
     ],
     "prompt_number": 7
    },
    {
     "cell_type": "markdown",
     "metadata": {},
     "source": [
      "## 2-3 Python \u662f\u771f\u7684\u5f88\u53ef\u611b"
     ]
    },
    {
     "cell_type": "markdown",
     "metadata": {},
     "source": [
      "\u5834\u5916\u63d2\u64ad\u4e00\u500b\u800d\u5bf6\u756b\u6cd5\u3002\u4e0b\u9054\u795e\u79d8\u7684\n",
      "\n",
      "    plt.xkcd()\n",
      "\n",
      "\u4e4b\u5f8c, \u518d\u756b\u5716...\n",
      "\n",
      "\u9019\u500b\u7576\u7136\u662f\u53d7\u5230 <a href=\"http://xkcd.com/\">xkcd</a> \u7684\u555f\u767c\u4f86\u7684\u3002"
     ]
    },
    {
     "cell_type": "code",
     "collapsed": false,
     "input": [
      "plt.xkcd()"
     ],
     "language": "python",
     "metadata": {},
     "outputs": [
      {
       "metadata": {},
       "output_type": "pyout",
       "prompt_number": 8,
       "text": [
        "<matplotlib.rc_context at 0x106324190>"
       ]
      }
     ],
     "prompt_number": 8
    },
    {
     "cell_type": "code",
     "collapsed": false,
     "input": [
      "plot(x, temp)"
     ],
     "language": "python",
     "metadata": {},
     "outputs": [
      {
       "metadata": {},
       "output_type": "pyout",
       "prompt_number": 9,
       "text": [
        "[<matplotlib.lines.Line2D at 0x10650d790>]"
       ]
      },
      {
       "metadata": {},
       "output_type": "display_data",
       "png": "[encoded data removed]",
       "text": [
        "<matplotlib.figure.Figure at 0x1060a67d0>"
       ]
      }
     ],
     "prompt_number": 9
    },
    {
     "cell_type": "code",
     "collapsed": false,
     "input": [
      "bar(x, temp)"
     ],
     "language": "python",
     "metadata": {},
     "outputs": [
      {
       "metadata": {},
       "output_type": "pyout",
       "prompt_number": 10,
       "text": [
        "<Container object of 12 artists>"
       ]
      },
      {
       "metadata": {},
       "output_type": "display_data",
       "png": "[encoded data removed]",
       "text": [
        "<matplotlib.figure.Figure at 0x105e63d50>"
       ]
      }
     ],
     "prompt_number": 10
    },
    {
     "cell_type": "markdown",
     "metadata": {},
     "source": [
      "\u4ee5\u4e0b\u5169\u884c\u53ea\u662f\u91cd\u8a2d\u56de\u300c\u6b63\u5e38\u300d\u72c0\u614b"
     ]
    },
    {
     "cell_type": "code",
     "collapsed": false,
     "input": [
      "rcdefaults()\n",
      "%pylab inline"
     ],
     "language": "python",
     "metadata": {},
     "outputs": [
      {
       "output_type": "stream",
       "stream": "stdout",
       "text": [
        "Populating the interactive namespace from numpy and matplotlib\n"
       ]
      }
     ],
     "prompt_number": 11
    },
    {
     "cell_type": "markdown",
     "metadata": {},
     "source": [
      "### 2-3 \u4e82\u6578\u5176\u5be6\u5f88\u53ef\u611b\n",
      "\n",
      "\u4e82\u6578\u662f\u597d\u73a9\u7684\u6839\u672c\u3002\n",
      "\n",
      "    a = randint(s,t)\n",
      "    \n",
      "\u662f\u96a8\u6a5f\u53d6\n",
      "\n",
      "$$s \\leq a < t$$\n",
      "    \n",
      "\u4e2d\u9593\u6574\u6578\u7684\u6578\u5b57\u3002"
     ]
    },
    {
     "cell_type": "code",
     "collapsed": false,
     "input": [
      "mylist = rand(100)"
     ],
     "language": "python",
     "metadata": {},
     "outputs": [],
     "prompt_number": 12
    },
    {
     "cell_type": "code",
     "collapsed": false,
     "input": [
      "mylist"
     ],
     "language": "python",
     "metadata": {},
     "outputs": [
      {
       "metadata": {},
       "output_type": "pyout",
       "prompt_number": 13,
       "text": [
        "array([ 0.82522065,  0.45346392,  0.15014961,  0.77200498,  0.82078927,\n",
        "        0.08736284,  0.57589247,  0.07761587,  0.37948823,  0.9515768 ,\n",
        "        0.7127992 ,  0.17416843,  0.96776662,  0.85981525,  0.722103  ,\n",
        "        0.87115421,  0.85800177,  0.6915905 ,  0.03614407,  0.77925679,\n",
        "        0.00557597,  0.23072775,  0.08512982,  0.92666533,  0.81600174,\n",
        "        0.58250375,  0.38864856,  0.55668585,  0.68100331,  0.12487009,\n",
        "        0.81896839,  0.39684574,  0.13758102,  0.96389226,  0.55712621,\n",
        "        0.35813068,  0.69133692,  0.0848126 ,  0.40961028,  0.3882723 ,\n",
        "        0.94882585,  0.24264268,  0.17921052,  0.00812955,  0.78064107,\n",
        "        0.57833257,  0.76331015,  0.21493572,  0.93534676,  0.6044095 ,\n",
        "        0.53242691,  0.22231848,  0.57802912,  0.04560284,  0.56457589,\n",
        "        0.72074969,  0.11251105,  0.36189602,  0.26051033,  0.80385545,\n",
        "        0.89009687,  0.19583448,  0.22262413,  0.61130246,  0.52462776,\n",
        "        0.31509456,  0.87855915,  0.73927886,  0.74597847,  0.22738678,\n",
        "        0.5365773 ,  0.02060239,  0.24801535,  0.39478885,  0.49390008,\n",
        "        0.31828079,  0.50719864,  0.10343459,  0.99466574,  0.54743065,\n",
        "        0.21750989,  0.55515405,  0.19777202,  0.29895308,  0.54080215,\n",
        "        0.28845326,  0.90319291,  0.42077051,  0.94130411,  0.64928035,\n",
        "        0.82436014,  0.94359252,  0.13281826,  0.42052931,  0.65589689,\n",
        "        0.50941499,  0.45019546,  0.31570872,  0.82606339,  0.10247141])"
       ]
      }
     ],
     "prompt_number": 13
    },
    {
     "cell_type": "markdown",
     "metadata": {},
     "source": [
      "\u5982\u679c\u7528\n",
      "\n",
      "    rand(100)\n",
      "\n",
      "\u610f\u601d\u662f\u62bd 100 \u500b 0 \u5230 1 \u7684\u4e82\u6578, \u653e\u6210\u4e00\u500b list (\u4e8b\u5be6\u4e0a\u662f array)"
     ]
    },
    {
     "cell_type": "code",
     "collapsed": false,
     "input": [
      "plot(rand(100))"
     ],
     "language": "python",
     "metadata": {},
     "outputs": [
      {
       "metadata": {},
       "output_type": "pyout",
       "prompt_number": 14,
       "text": [
        "[<matplotlib.lines.Line2D at 0x106787c50>]"
       ]
      },
      {
       "metadata": {},
       "output_type": "display_data",
       "png": "[encoded data removed]",
       "text": [
        "<matplotlib.figure.Figure at 0x1060a65d0>"
       ]
      }
     ],
     "prompt_number": 14
    },
    {
     "cell_type": "markdown",
     "metadata": {},
     "source": [
      "## 3. Python \u7684\u5b57\u4e32\u548c\u51fd\u6578"
     ]
    },
    {
     "cell_type": "markdown",
     "metadata": {},
     "source": [
      "\u6211\u5011\u4e0d\u80fd\u4fd7\u7684\u4f86\u500b hello, world \u7a0b\u5f0f!"
     ]
    },
    {
     "cell_type": "code",
     "collapsed": false,
     "input": [
      "message = \"hello, world\"\n",
      "print message"
     ],
     "language": "python",
     "metadata": {},
     "outputs": [
      {
       "output_type": "stream",
       "stream": "stdout",
       "text": [
        "hello, world\n"
       ]
      }
     ],
     "prompt_number": 15
    },
    {
     "cell_type": "code",
     "collapsed": false,
     "input": [
      "message.split(\",\")"
     ],
     "language": "python",
     "metadata": {},
     "outputs": [
      {
       "metadata": {},
       "output_type": "pyout",
       "prompt_number": 16,
       "text": [
        "['hello', ' world']"
       ]
      }
     ],
     "prompt_number": 16
    },
    {
     "cell_type": "markdown",
     "metadata": {},
     "source": [
      "### 3-1 \u5b57\u4e32\u57fa\u672c\u4e0a\u662f\u9019\u6a23\u7b97\u4f4d\u7f6e\u7684\n",
      "\n",
      "![hello world](images/hello.png)"
     ]
    },
    {
     "cell_type": "markdown",
     "metadata": {},
     "source": [
      "\u4f8b\u5982\u7b2c 0 \u500b\u4f4d\u7f6e"
     ]
    },
    {
     "cell_type": "code",
     "collapsed": false,
     "input": [
      "message[0]"
     ],
     "language": "python",
     "metadata": {},
     "outputs": [
      {
       "metadata": {},
       "output_type": "pyout",
       "prompt_number": 17,
       "text": [
        "'h'"
       ]
      }
     ],
     "prompt_number": 17
    },
    {
     "cell_type": "markdown",
     "metadata": {},
     "source": [
      "\u6ce8\u610f\u8ca0\u7684\u4e5f\u53ef\u4ee5"
     ]
    },
    {
     "cell_type": "code",
     "collapsed": false,
     "input": [
      "message[-5:-1]"
     ],
     "language": "python",
     "metadata": {},
     "outputs": [
      {
       "metadata": {},
       "output_type": "pyout",
       "prompt_number": 18,
       "text": [
        "'worl'"
       ]
      }
     ],
     "prompt_number": 18
    },
    {
     "cell_type": "markdown",
     "metadata": {},
     "source": [
      "\u8a18\u5f97\u6709\u500b\u7a0b\u5f0f\u984c\u76ee\u662f\u628a\u6574\u500b\u5b57\u4e32\u8981\u5012\u904e\u4f86, \u7528 Python \u771f\u7684\u5f88\u72af\u898f!"
     ]
    },
    {
     "cell_type": "code",
     "collapsed": false,
     "input": [
      "message[::-1]"
     ],
     "language": "python",
     "metadata": {},
     "outputs": [
      {
       "metadata": {},
       "output_type": "pyout",
       "prompt_number": 19,
       "text": [
        "'dlrow ,olleh'"
       ]
      }
     ],
     "prompt_number": 19
    },
    {
     "cell_type": "markdown",
     "metadata": {},
     "source": [
      "### 3-2 list \u662f\u8cc7\u6599\u5206\u6790\u7684\u57fa\u672c\n",
      "\n",
      "\u6211\u5011\u53ef\u4ee5\u60f3\u6210 list \u662f\u4e00\u4e32\u7684\u8cc7\u6599, \u5728 numpy \u53eb array, \u5728 pandas \u53eb series, \u96d6\u7136\u56b4\u683c\u8aaa\u5b83\u5011\u6709\u9ede\u4e0d\u4e00\u6a23\u3002"
     ]
    },
    {
     "cell_type": "code",
     "collapsed": false,
     "input": [
      "range(10)"
     ],
     "language": "python",
     "metadata": {},
     "outputs": [
      {
       "metadata": {},
       "output_type": "pyout",
       "prompt_number": 20,
       "text": [
        "[0, 1, 2, 3, 4, 5, 6, 7, 8, 9]"
       ]
      }
     ],
     "prompt_number": 20
    },
    {
     "cell_type": "markdown",
     "metadata": {},
     "source": [
      "Python \u7684\u8ff4\u5708\u57fa\u672c\u4e0a\u662f\u7528 list \u9054\u6210!"
     ]
    },
    {
     "cell_type": "code",
     "collapsed": false,
     "input": [
      "for i in range(10):\n",
      "    print \" \"*randint(1,15) + \"*\""
     ],
     "language": "python",
     "metadata": {},
     "outputs": [
      {
       "output_type": "stream",
       "stream": "stdout",
       "text": [
        "   *\n",
        "          *\n",
        "     *\n",
        "          *\n",
        "        *\n",
        "      *\n",
        "   *\n",
        "       *\n",
        "            *\n",
        "   *\n"
       ]
      }
     ],
     "prompt_number": 21
    },
    {
     "cell_type": "markdown",
     "metadata": {},
     "source": [
      "### 3-3 for \u8ff4\u5708\u9020\u500b list"
     ]
    },
    {
     "cell_type": "code",
     "collapsed": false,
     "input": [
      "L = []\n",
      "for i in range(6):\n",
      "    L.append(2*i)"
     ],
     "language": "python",
     "metadata": {},
     "outputs": [],
     "prompt_number": 22
    },
    {
     "cell_type": "code",
     "collapsed": false,
     "input": [
      "L"
     ],
     "language": "python",
     "metadata": {},
     "outputs": [
      {
       "metadata": {},
       "output_type": "pyout",
       "prompt_number": 23,
       "text": [
        "[0, 2, 4, 6, 8, 10]"
       ]
      }
     ],
     "prompt_number": 23
    },
    {
     "cell_type": "markdown",
     "metadata": {},
     "source": [
      "\u6211\u5011\u9084\u6709\u975e\u5e38<b style=\"color:red;\"> Python \u98a8</b>\u7684\u4e00\u884c\u6587\u9020\u6cd5!"
     ]
    },
    {
     "cell_type": "code",
     "collapsed": false,
     "input": [
      "S = [2*i for i in range(6)]"
     ],
     "language": "python",
     "metadata": {},
     "outputs": [],
     "prompt_number": 24
    },
    {
     "cell_type": "code",
     "collapsed": false,
     "input": [
      "S"
     ],
     "language": "python",
     "metadata": {},
     "outputs": [
      {
       "metadata": {},
       "output_type": "pyout",
       "prompt_number": 25,
       "text": [
        "[0, 2, 4, 6, 8, 10]"
       ]
      }
     ],
     "prompt_number": 25
    },
    {
     "cell_type": "markdown",
     "metadata": {},
     "source": [
      "### 3-3 \u5f88\u591a\u611b\u7684\u51fd\u6578\n",
      "\n",
      "\u6211\u5011\u5982\u679c\u770b\u9ad8\u8208, \u6709\u6642\u60f3\u5370\u51fa\u4e00\u500b love, \u6709\u6642 3 \u500b, \u6709\u6642 99 \u500b\u3002\u81ea\u7136\u7528\u4e0a\u9762\u7684\u6307\u4ee4\u53ea\u6709\u4e00\u884c, \u6240\u4ee5\u5f88\u7c21\u55ae\u3002\u4f46\u662f\u53ef\u4e0d\u53ef\u4ee5\u4e0d\u8981\u6253\u90a3\u9ebc\u591a\u5b57? \u4e5f\u5c31\u662f\u6211\u5011\u5e0c\u671b\u6709\u4e00\u6bb5\u7a0b\u5f0f\u78bc\u53ef\u91cd\u8986\u4f7f\u7528, \u5c24\u5176\u4ee5\u5f8c\u4e8b\u60c5\u8b8a\u5f97\u8907\u96dc\u4e4b\u5f8c..."
     ]
    },
    {
     "cell_type": "code",
     "collapsed": false,
     "input": [
      "def love(n):\n",
      "    print \">///<\"\n",
      "    print \"love\"*n"
     ],
     "language": "python",
     "metadata": {},
     "outputs": [],
     "prompt_number": 26
    },
    {
     "cell_type": "code",
     "collapsed": false,
     "input": [
      "love(3)"
     ],
     "language": "python",
     "metadata": {},
     "outputs": [
      {
       "output_type": "stream",
       "stream": "stdout",
       "text": [
        ">///<\n",
        "lovelovelove\n"
       ]
      }
     ],
     "prompt_number": 27
    },
    {
     "cell_type": "markdown",
     "metadata": {},
     "source": [
      "### 3-4 \u4f86\u7b97\u500b BMI\n",
      "\n",
      "\u6211\u5011\u77e5\u9053, \u7576\u4e00\u500b\u4eba\u7684 BMI \u662f\u9019\u6a23\u7b97\u7684:\n",
      "\n",
      "$$ BMI = \\frac{\\mbox{\u9ad4\u91cd (kg)}}{\\mbox{\u8eab\u9ad8 (m)}^2}$$\n",
      "\n",
      "\u73fe\u5728\u6211\u60f3\u5beb\u4e00\u500b Python \u51fd\u6578\u4f86\u7b97 BMI!"
     ]
    },
    {
     "cell_type": "code",
     "collapsed": false,
     "input": [
      "def bmi(w, h):\n",
      "    b = w / h**2\n",
      "    return b"
     ],
     "language": "python",
     "metadata": {},
     "outputs": [],
     "prompt_number": 28
    },
    {
     "cell_type": "markdown",
     "metadata": {},
     "source": [
      "\u6700\u5f8c\u4e00\u884c\u7684 return, \u662f\u6a19\u6e96\u51fd\u6578\u7684\u5beb\u6cd5\u3002\u9019\u610f\u601d\u5c31\u50cf\u6578\u5b78\u4e0a f(x)=x+4, \u5982\u679c\u6211\u5011\u8f38\u5165 f(2), \u8981\u56de\u50b3 (return) 6 \u4e00\u6a23!"
     ]
    },
    {
     "cell_type": "code",
     "collapsed": false,
     "input": [
      "mybmi = bmi(75, 1.79)\n",
      "print mybmi"
     ],
     "language": "python",
     "metadata": {},
     "outputs": [
      {
       "output_type": "stream",
       "stream": "stdout",
       "text": [
        "23.4075091289\n"
       ]
      }
     ],
     "prompt_number": 29
    },
    {
     "cell_type": "code",
     "collapsed": false,
     "input": [
      "myweight = 75\n",
      "myheight = 1.79\n",
      "mybmi = bmi(myweight, myheight)"
     ],
     "language": "python",
     "metadata": {},
     "outputs": [],
     "prompt_number": 30
    },
    {
     "cell_type": "code",
     "collapsed": false,
     "input": [
      "print \"\u6211\u7684 BMI \u662f \" + str(mybmi)"
     ],
     "language": "python",
     "metadata": {},
     "outputs": [
      {
       "output_type": "stream",
       "stream": "stdout",
       "text": [
        "\u6211\u7684 BMI \u662f 23.4075091289\n"
       ]
      }
     ],
     "prompt_number": 31
    },
    {
     "cell_type": "markdown",
     "metadata": {},
     "source": [
      "### 3-5 \u795e\u5947\u7684\u662f, IPython \u53ef\u4ee5\u908a\u73a9\u908a\u5beb\n",
      "\n",
      "\u901a\u5e38\u6211\u5011\u6703\u628a\u6587\u5b57\u5b58\u6210\u4e00\u500b\u6587\u5b57\u6a94, \u4e00\u822c Python \u7a0b\u5f0f\u5c31\u662f .py \u6a94\u3002\u5047\u8a2d\u6211\u6709\u500b spam.py \u6a94, \u4f60\u53ef\u4ee5\u5728\u7d42\u7aef\u6a5f\u3001\u547d\u4ee4\u63d0\u793a\u5b57\u5143\u7528 \n",
      "\n",
      "    python spam.py\n",
      "    \n",
      "\u57f7\u884c\u3002\n",
      "\n",
      "\u800c, IPython \u795e\u5947\u7684\u662f, \u4f60\u53ef\u4ee5\u908a\u73a9, \u73a9\u4e86\u4e00\u6bb5\u628a\u8981\u7684\u90e8\u4efd\u5b58\u8d77\u4f86!"
     ]
    },
    {
     "cell_type": "code",
     "collapsed": false,
     "input": [
      "%save bmical.py 28 30-31"
     ],
     "language": "python",
     "metadata": {},
     "outputs": [
      {
       "output_type": "stream",
       "stream": "stdout",
       "text": [
        "The following commands were written to file `bmical.py`:\n",
        "def bmi(w, h):\n",
        "    b = w / h**2\n",
        "    return b\n",
        "myweight = 75\n",
        "myheight = 1.79\n",
        "mybmi = bmi(myweight, myheight)\n",
        "print \"\u6211\u7684 BMI \u662f \" + str(mybmi)\n"
       ]
      }
     ],
     "prompt_number": 28
    },
    {
     "cell_type": "markdown",
     "metadata": {},
     "source": [
      "\u4ee5\u5f8c, \u6211\u5011\u7528 %run \u9019\u500b magic function \u5c31\u53ef\u4ee5\u8dd1!"
     ]
    },
    {
     "cell_type": "code",
     "collapsed": false,
     "input": [
      "%run bmical.py"
     ],
     "language": "python",
     "metadata": {},
     "outputs": [
      {
       "output_type": "stream",
       "stream": "stdout",
       "text": [
        "\u6211\u7684 BMI \u662f 23.4075091289\n"
       ]
      }
     ],
     "prompt_number": 29
    },
    {
     "cell_type": "markdown",
     "metadata": {},
     "source": [
      "### 4. Array \u5c0e\u5411\u7a0b\u5f0f\n",
      "\n",
      "\u5728\u79d1\u5b78\u8a08\u7b97\u3001\u8cc7\u6599\u5206\u6790, array \u578b\u7684\u601d\u8003\u65b9\u5f0f, \u5e38\u5e38\u8b93\u7a0b\u5f0f\u5feb\u901f\u65b9\u4fbf!"
     ]
    },
    {
     "cell_type": "markdown",
     "metadata": {},
     "source": [
      "### 4-1 \u96d6\u7136 array \u5f88\u50cf list"
     ]
    },
    {
     "cell_type": "code",
     "collapsed": false,
     "input": [
      "iamlist = [1,3,-2,5]"
     ],
     "language": "python",
     "metadata": {},
     "outputs": [],
     "prompt_number": 33
    },
    {
     "cell_type": "code",
     "collapsed": false,
     "input": [
      "iamlist * 2"
     ],
     "language": "python",
     "metadata": {},
     "outputs": [
      {
       "metadata": {},
       "output_type": "pyout",
       "prompt_number": 34,
       "text": [
        "[1, 3, -2, 5, 1, 3, -2, 5]"
       ]
      }
     ],
     "prompt_number": 34
    },
    {
     "cell_type": "code",
     "collapsed": false,
     "input": [
      "iamarray = array([1,3,-2,5])"
     ],
     "language": "python",
     "metadata": {},
     "outputs": [],
     "prompt_number": 35
    },
    {
     "cell_type": "code",
     "collapsed": false,
     "input": [
      "iamarray * 2"
     ],
     "language": "python",
     "metadata": {},
     "outputs": [
      {
       "metadata": {},
       "output_type": "pyout",
       "prompt_number": 37,
       "text": [
        "array([ 2,  6, -4, 10])"
       ]
      }
     ],
     "prompt_number": 37
    },
    {
     "cell_type": "markdown",
     "metadata": {},
     "source": [
      "\u9019\u6a23\u4e5f\u53ef\u4ee5!!"
     ]
    },
    {
     "cell_type": "code",
     "collapsed": false,
     "input": [
      "sin(iamarray)"
     ],
     "language": "python",
     "metadata": {},
     "outputs": [
      {
       "metadata": {},
       "output_type": "pyout",
       "prompt_number": 38,
       "text": [
        "array([ 0.84147098,  0.14112001, -0.90929743, -0.95892427])"
       ]
      }
     ],
     "prompt_number": 38
    },
    {
     "cell_type": "markdown",
     "metadata": {},
     "source": [
      "### 4-2 \u7528 array \u4f86\u756b\u5716\n",
      "\n",
      "\u524d\u9762\u8aaa\u4e86, \u6211\u5011\u8981\u756b\u5716\u57fa\u672c\u4e0a\u662f\n",
      "\n",
      "    plot(X, Y)\n",
      "\n",
      "X \u662f x \u5ea7\u6a19\u7684 list (array), Y \u662f y \u5ea7\u6a19\u7684 list\u3002"
     ]
    },
    {
     "cell_type": "markdown",
     "metadata": {},
     "source": [
      "\u505a\u4e00\u500b -10 \u5230 10, \u5171 1000 \u9ede\u7684\u8cc7\u6599!"
     ]
    },
    {
     "cell_type": "code",
     "collapsed": false,
     "input": [
      "x = linspace(-10,10,1000)"
     ],
     "language": "python",
     "metadata": {},
     "outputs": [],
     "prompt_number": 51
    },
    {
     "cell_type": "markdown",
     "metadata": {},
     "source": [
      "\u6211\u5011\u77e5\u9053 (\u5728 information theory/digital signal processing)\n",
      "\n",
      "$$\\mbox{sinc}(x) = \\frac{\\sin(\\pi x)}{\\pi x}$$"
     ]
    },
    {
     "cell_type": "code",
     "collapsed": false,
     "input": [
      "plot(x, sinc(x));"
     ],
     "language": "python",
     "metadata": {},
     "outputs": [
      {
       "metadata": {},
       "output_type": "display_data",
       "png": "[encoded data removed]",
       "text": [
        "<matplotlib.figure.Figure at 0x106c44c50>"
       ]
      }
     ],
     "prompt_number": 52
    },
    {
     "cell_type": "code",
     "collapsed": false,
     "input": [
      "y = sinc(x)\n",
      "plot(x, y);\n",
      "plot(x[y>0], y[y>0], 'ro');"
     ],
     "language": "python",
     "metadata": {},
     "outputs": [
      {
       "metadata": {},
       "output_type": "display_data",
       "png": "[encoded data removed]",
       "text": [
        "<matplotlib.figure.Figure at 0x10728a450>"
       ]
      }
     ],
     "prompt_number": 56
    },
    {
     "cell_type": "markdown",
     "metadata": {},
     "source": [
      "### 4-3 \u6539\u8b8a array \u7684 shape"
     ]
    },
    {
     "cell_type": "code",
     "collapsed": false,
     "input": [
      "x.shape = (20,50)"
     ],
     "language": "python",
     "metadata": {},
     "outputs": [],
     "prompt_number": 47
    },
    {
     "cell_type": "code",
     "collapsed": false,
     "input": [
      "imshow(x);"
     ],
     "language": "python",
     "metadata": {},
     "outputs": [
      {
       "metadata": {},
       "output_type": "display_data",
       "png": "[encoded data removed]",
       "text": [
        "<matplotlib.figure.Figure at 0x106e1fc90>"
       ]
      }
     ],
     "prompt_number": 48
    },
    {
     "cell_type": "code",
     "collapsed": false,
     "input": [
      "imshow(sinc(x));"
     ],
     "language": "python",
     "metadata": {},
     "outputs": [
      {
       "metadata": {},
       "output_type": "display_data",
       "png": "[encoded data removed]",
       "text": [
        "<matplotlib.figure.Figure at 0x10729e290>"
       ]
      }
     ],
     "prompt_number": 49
    },
    {
     "cell_type": "markdown",
     "metadata": {},
     "source": [
      "### \u5ef6\u4f38\u5b78\u7fd2\n",
      "\n",
      "Travis Oliphant (Numpy, SciPy, Anaconda \u958b\u767c\u8005), \u4ecb\u7d39 \"array-oriented\" \u7684\u8a08\u7b97\u6280\u5de7\u3002\u9019\u6bb5\u5f71\u7247\u662f Travis \u5728 2012 \u5e74, \u5728\u7b2c\u4e00\u6b21 PyCon Taiwan \u7684\u4e2d\u6f14\u8b1b\u3002\n",
      "\n",
      "[Large-scale array-oriented computing with Python (YouTube)](http://youtu.be/vrPRwUOt-7k)\n",
      "\n",
      "[\u6295\u5f71\u7247](http://www.slideshare.net/pycontw/largescale-arrayoriented-computing-with-python)"
     ]
    },
    {
     "cell_type": "markdown",
     "metadata": {},
     "source": [
      "### 5. \u6293\u8cc7\u6599\u9032\u4f86\u5206\u6790\u4e00\u4e0b"
     ]
    },
    {
     "cell_type": "markdown",
     "metadata": {},
     "source": [
      "### 5-1 \u6293\u5a01\u529b\u5f69\u8cc7\u6599\n",
      "\n",
      "[http://www.pilio.idv.tw/lto/list.asp?indexpage=1](http://www.pilio.idv.tw/lto/list.asp?indexpage=1)\n",
      "\n",
      "\u5982\u679c indexpage = 2 \u53ef\u770b\u5230\u4e0b\u4e00\u9801"
     ]
    },
    {
     "cell_type": "code",
     "collapsed": false,
     "input": [
      "import requests"
     ],
     "language": "python",
     "metadata": {},
     "outputs": [],
     "prompt_number": 91
    },
    {
     "cell_type": "code",
     "collapsed": false,
     "input": [
      "res = requests.get(\"http://www.pilio.idv.tw/lto/list.asp?indexpage=1\")"
     ],
     "language": "python",
     "metadata": {},
     "outputs": [],
     "prompt_number": 92
    },
    {
     "cell_type": "markdown",
     "metadata": {},
     "source": [
      "\u57fa\u672c\u4e0a\u9019\u5c31\u662f\u6293\u4e0b\u4e86\u6574\u500b\u7db2\u9801, \u6211\u5011\u53ef\u4ee5\u770b\u4e00\u4e0b\u5167\u5bb9"
     ]
    },
    {
     "cell_type": "code",
     "collapsed": false,
     "input": [
      "res.text"
     ],
     "language": "python",
     "metadata": {},
     "outputs": [
      {
       "metadata": {},
       "output_type": "pyout",
       "prompt_number": 128,
       "text": [
        "u'\\r\\n<html>\\r\\n\\r\\n<head>\\r\\n<meta http-equiv=\"Content-Language\" content=\"zh-tw\">\\r\\n<meta http-equiv=\"Content-Type\" content=\"text/html; charset=big5\">\\r\\n<meta name=\"GENERATOR\" content=\"Microsoft FrontPage 6.0\">\\r\\n<meta name=\"ProgId\" content=\"FrontPage.Editor.Document\">\\r\\n<title>\\xab\\xc2\\xa4O\\xb1m\\xb6}\\xbc\\xfa\\xb8\\xb9\\xbdX\\xacd\\xb8\\xdf</title>\\r\\n</head>\\r\\n\\r\\n<body background=\"bk.BMP\" bgproperties=\"fixed\">\\r\\n<table border=\"0\" id=\"table1\" cellspacing=\"0\" cellpadding=\"0\">\\r\\n\\t<tr>\\r\\n\\t\\t<td width=\"361\">\\r\\n\\t\\t<p align=\"right\"><script type=\"text/javascript\" src=\"//adsense.scupio.com/adpinline/ADmediaJS/swiven_2480_9703_10369_1.js\"></script></td>\\r\\n\\t\\t<td width=\"742\">\\r\\n<script type=\"text/javascript\" src=\"//adsense.scupio.com/adpinline/ADmediaJS/swiven_2473_6452_7118_1.js\"></script>\\r\\n<BR><BR>\\t\\r\\n<!-- AdPlace ShowCode Begin / 468*60 -->\\r\\n<script  type=\"text/javascript\" charset=\"gbk\" src=\"http://adplace.adsame.com/s?z=adplace&c=2649\"></script>\\r\\n<!-- AdPlace ShowCode End / 468*60 -->\\r\\n\\t\\t</td>\\r\\n\\t\\t<td width=\"459\"><script>var q = \"z=3187&w=300&h=250\";</script><script src=\"http://ads.doublemax.net/adx/rt_publisher.js\"></script></td>\\r\\n\\t</tr>\\r\\n</table>\\r\\n<p align=\"center\">\\r\\n<script>var q = \"z=3210&w=300&h=100\";</script>\\r\\n<script src=\"http://ads.doublemax.net/adx/rt_publisher.js\" ></script>\\r\\n<!-- BEGIN DoubleAdx.com EXCHANGE CODE -->\\r\\n<script src=\\'http://ad53.DoubleAdx.com/?M=232653&G1=1&G2=\\'></script>\\r\\n<noscript>\\r\\n<a href=\\'http://www.DoubleAdx.com\\'>free banner exchange by DoubleAdx.com</a>\\r\\n</noscript>\\r\\n<!-- END DoubleAdx.com BANNER CODE -->\\r\\n<br>\\r\\n<!-- Place this tag where you want the +1 button to render. -->\\r\\n<div class=\"g-plusone\" data-size=\"medium\" data-annotation=\"inline\" data-width=\"300\" align=center></div>\\r\\n<!-- Place this tag after the last +1 button tag. -->\\r\\n<script type=\"text/javascript\">\\r\\n  (function() {\\r\\n    var po = document.createElement(\\'script\\'); po.type = \\'text/javascript\\'; po.async = true;\\r\\n    po.src = \\'https://apis.google.com/js/plusone.js\\';\\r\\n    var s = document.getElementsByTagName(\\'script\\')[0]; s.parentNode.insertBefore(po, s);\\r\\n  })();\\r\\n</script>\\t\\t\\t\\t\\t\\t\\t\\t\\t\\t\\r\\n\\t\\t\\t<iframe src=\"http://www.facebook.com/plugins/like.php?href=http://www.pilio.idv.tw/lto/list.asp&layout=button_count&show_faces=0&width=90&height=24&locale=zh_TW\" frameborder=\"0\" scrolling=\"no\" style=\"width:150px;height:24px;\"> </iframe>\\r\\n                    &nbsp;<a target=\"_blank\" href=\"https://www.facebook.com/pages/\\xbc\\xd6\\xb3z\\xb1m\\xa9\\xaf\\xb9B\\xb5o\\xb0]\\xba\\xf4/154510874642988\"><img border=\"0\" src=\"../facebookFans.jpg\" width=\"173\" height=\"35\"></a>\\r\\n                    <a href=\"javascript:void(window.open(\\'http://www.facebook.com/share.php?u=\\'.concat(encodeURIComponent(location.href))));\">\\r\\n\\t\\t\\t\\t\\t<img border=\"0\" src=\"../../Facebook.jpg\" width=\"52\" height=\"21\"></a>&nbsp;\\r\\n\\t\\t\\t\\t\\t<a href=\"javascript: void(window.open(\\'http://www.plurk.com/?qualifier=shares&status=\\'.concat(encodeURIComponent(location.href)).concat(\\' \\').concat(\\'(\\').concat(encodeURIComponent(document.title)).concat(\\')\\')));\">\\r\\n\\t\\t\\t\\t\\t<img border=\"0\" src=\"../../Plurk.jpg\" width=\"41\" height=\"20\"></a>&nbsp;\\r\\n\\t\\t\\t\\t\\t<a href=\"javascript: void(window.open(\\'http://twitter.com/home/?status=\\'.concat(encodeURIComponent(document.title)).concat(\\' \\').concat(encodeURIComponent(location.href))));\">\\r\\n\\t\\t\\t\\t\\t<img border=\"0\" src=\"../../Tweet.jpg\" width=\"55\" height=\"20\"></a>\\r\\n<br>\\r\\n<p align=\"center\">\\r\\n<font size=\"2\">\\xafu\\xb8\\xdb\\xb1\\xc0\\xc2\\xcb \\r\\n<img border=\"0\" src=\"../yafen/point.gif\" width=\"20\" height=\"20\">\\r\\n<a href=\"http://www.pilio.idv.tw/LTO\">\\xab\\xc2\\xa4O\\xb1m\\xa4\\xc0\\xaaR\\xba\\xf4\\xaf\\xb8</a> &nbsp;<img border=\"0\" src=\"../yafen/point.gif\" width=\"20\" height=\"20\"><a href=\"http://www.pilio.idv.tw/ltobig\">\\xa4j\\xbc\\xd6\\xb3z\\xa4\\xc0\\xaaR\\xba\\xf4\\xaf\\xb8</a>&nbsp;\\r\\n<img border=\"0\" src=\"../yafen/point.gif\" width=\"20\" height=\"20\"><a href=\"http://www.pilio.idv.tw/ltohk\">\\xa4\\xbb\\xa6X\\xb1m\\xbc\\xc6\\xbe\\xda\\xa4\\xc0\\xaaR\\xba\\xf4\\xaf\\xb8</a>&nbsp;<img border=\"0\" src=\"../yafen/point.gif\" width=\"20\" height=\"20\"><a href=\"http://www.pilio.idv.tw/lto539\">\\xa4\\xb5\\xb1m539\\xbc\\xc6\\xbe\\xda\\xa4\\xc0\\xaaR</a> \\r\\n<img border=\"0\" src=\"../yafen/point.gif\" width=\"20\" height=\"20\"><a href=\"../lto/joinmem.asp\">\\xa5\\xdf\\xa7Y\\xa5\\xd3\\xbd\\xd0\\xa5[\\xa4J\\xb7|\\xad\\xfb</a>\\r\\n<img border=\"0\" src=\"../yafen/point.gif\" width=\"20\" height=\"20\"></font><b><a target=\"_blank\" href=\"http://www.pilio.idv.tw/merit.asp?indexpage=1\"><font color=\"#BD0000\">\\xa4j\\xbc\\xd6\\xb3z\\xb9w\\xb4\\xfa\\xc3\\xd8\\xbc\\xfa\\xac\\xa1\\xb0\\xca</font></a></b><font size=\"2\"> <img border=\"0\" src=\"../yafen/point.gif\" width=\"20\" height=\"20\"></font><a target=\"_self\" href=\"http://www.pilio.idv.tw\"><span style=\"font-weight: 700; background-color: #FFFFFF\"><font color=\"#BD0000\">\\xc5w\\xaa\\xef\\xabe\\xa9\\xb9\\xb7s\\xaa\\xa9\\xbc\\xd6\\xb3z\\xc1`\\xaf\\xb8</font></span></a><br>\\r\\n<br>\\r\\n<img border=\"0\" src=\"01.gif\" width=\"90\" height=\"49\">\\r\\n\\xbe\\xfa\\xa6~\\xa8\\xd3\\xab\\xc2\\xa4O\\xb1m\\xb6}\\xbc\\xfa\\xb8\\xb9\\xbdX\\xa6C\\xaa\\xed    \\r\\n<font size=\"2\"><font color=\"#CC3300\">\\xa5\\xd8\\xabe\\xab\\xc2\\xa4O\\xb1m\\xc0Y\\xbc\\xfa\\xb9w\\xa6\\xf4\\xb2\\xd6\\xbfn\\xaa\\xf7\\xc3B NT</font>:</font>\\r\\n\\t\\t\\t\\t\\t<font color=\"#FFFFFF\" size=\"5\">\\r\\n\\t\\t\\t\\t\\t<span style=\"font-weight: 700; background-color: #FF0000\">$0895590068</span></font>\\r\\n</p>\\r\\n<div align=\"center\">\\r\\n  <center>\\r\\n  <table border=\"2\" width=\"85%\" bordercolordark=\"#BD0000\" bordercolorlight=\"#000000\">\\r\\n    <tr>\\r\\n      \\r\\n    </tr>\\r\\n  </table>\\r\\n  </center>\\r\\n</div>\\r\\n<div align=\"center\">\\r\\n  <center>\\r\\n  <table border=\"1\" width=\"85%\" bordercolordark=\"#FF9900\" bordercolorlight=\"#FFFF00\">\\r\\n    <tr>\\r\\n      <td width=\"16%\" bgcolor=\"#FFEBD7\" align=\"center\"><b><font color=\"#000000\">\\xb4\\xc1\\xbc\\xc6</font></b></td>\\r\\n      <td width=\"16%\" bgcolor=\"#FFEBD7\" align=\"center\"><b><font color=\"#000000\">\\xb6}\\xbc\\xfa\\xa4\\xe9\\xb4\\xc1</font></b></td>\\r\\n      <td width=\"17%\" bgcolor=\"#FFEBD7\" align=\"center\"><b><font color=\"#000000\">\\r\\n\\t\\t\\xab\\xc2\\xa4O\\xb1m\\xb2\\xc4\\xa4@\\xb0\\xcf\\xa4\\xa4\\xbc\\xfa\\xb8\\xb9\\xbdX</font></b></td>\\r\\n      <td width=\"11%\" bgcolor=\"#FFEBD7\" align=\"center\"><b><font color=\"#000000\">\\xb2\\xc4\\xa4G\\xb0\\xcf\\xb8\\xb9</font></b></td>\\r\\n      <td width=\"23%\" bgcolor=\"#FFEBD7\" align=\"center\"><b><font color=\"#000000\">\\xb3\\xc6\\xb5\\xf9</font></b></td>\\r\\n    </tr>\\r\\n\\r\\n    <tr>\\r\\n      <td width=\"16%\" align=\"center\"><font color=\"#0066cc\"><b>733</b></font></td>\\r\\n      <td width=\"16%\" align=\"center\"><font color=\"#0066cc\"><b>2014/12/22</b></font></td>\\r\\n      <td width=\"17%\" align=\"center\"><b>01&nbsp;,&nbsp;04&nbsp;,&nbsp;05&nbsp;,&nbsp;13&nbsp;,&nbsp;19&nbsp;,&nbsp;37&nbsp;&nbsp;</b></td>\\r\\n      <td width=\"11%\" align=\"center\"><font color=\"#FF0000\"><b>02</b></font></td>\\r\\n      <td width=\"23%\" align=\"center\"><b><font color=\"#0066cc\">\\xb5L</font></b></td>\\r\\n    </tr>\\r\\n\\r\\n    <tr>\\r\\n      <td width=\"16%\" align=\"center\"><font color=\"#0066cc\"><b>732</b></font></td>\\r\\n      <td width=\"16%\" align=\"center\"><font color=\"#0066cc\"><b>2014/12/18</b></font></td>\\r\\n      <td width=\"17%\" align=\"center\"><b>01&nbsp;,&nbsp;05&nbsp;,&nbsp;18&nbsp;,&nbsp;20&nbsp;,&nbsp;26&nbsp;,&nbsp;29&nbsp;&nbsp;</b></td>\\r\\n      <td width=\"11%\" align=\"center\"><font color=\"#FF0000\"><b>05</b></font></td>\\r\\n      <td width=\"23%\" align=\"center\"><b><font color=\"#0066cc\">\\xb5L</font></b></td>\\r\\n    </tr>\\r\\n\\r\\n    <tr>\\r\\n      <td width=\"16%\" align=\"center\"><font color=\"#0066cc\"><b>731</b></font></td>\\r\\n      <td width=\"16%\" align=\"center\"><font color=\"#0066cc\"><b>2014/12/15</b></font></td>\\r\\n      <td width=\"17%\" align=\"center\"><b>05&nbsp;,&nbsp;10&nbsp;,&nbsp;11&nbsp;,&nbsp;15&nbsp;,&nbsp;36&nbsp;,&nbsp;38&nbsp;&nbsp;</b></td>\\r\\n      <td width=\"11%\" align=\"center\"><font color=\"#FF0000\"><b>06</b></font></td>\\r\\n      <td width=\"23%\" align=\"center\"><b><font color=\"#0066cc\">\\xb5L</font></b></td>\\r\\n    </tr>\\r\\n\\r\\n    <tr>\\r\\n      <td width=\"16%\" align=\"center\"><font color=\"#0066cc\"><b>730</b></font></td>\\r\\n      <td width=\"16%\" align=\"center\"><font color=\"#0066cc\"><b>2014/12/11</b></font></td>\\r\\n      <td width=\"17%\" align=\"center\"><b>07&nbsp;,&nbsp;12&nbsp;,&nbsp;13&nbsp;,&nbsp;21&nbsp;,&nbsp;24&nbsp;,&nbsp;28&nbsp;&nbsp;</b></td>\\r\\n      <td width=\"11%\" align=\"center\"><font color=\"#FF0000\"><b>06</b></font></td>\\r\\n      <td width=\"23%\" align=\"center\"><b><font color=\"#0066cc\">\\xb5L</font></b></td>\\r\\n    </tr>\\r\\n\\r\\n    <tr>\\r\\n      <td width=\"16%\" align=\"center\"><font color=\"#0066cc\"><b>729</b></font></td>\\r\\n      <td width=\"16%\" align=\"center\"><font color=\"#0066cc\"><b>2014/12/08</b></font></td>\\r\\n      <td width=\"17%\" align=\"center\"><b>11&nbsp;,&nbsp;20&nbsp;,&nbsp;24&nbsp;,&nbsp;27&nbsp;,&nbsp;35&nbsp;,&nbsp;38&nbsp;&nbsp;</b></td>\\r\\n      <td width=\"11%\" align=\"center\"><font color=\"#FF0000\"><b>08</b></font></td>\\r\\n      <td width=\"23%\" align=\"center\"><b><font color=\"#0066cc\">\\xb5L</font></b></td>\\r\\n    </tr>\\r\\n\\r\\n    <tr>\\r\\n      <td width=\"16%\" align=\"center\"><font color=\"#0066cc\"><b>728</b></font></td>\\r\\n      <td width=\"16%\" align=\"center\"><font color=\"#0066cc\"><b>2014/12/04</b></font></td>\\r\\n      <td width=\"17%\" align=\"center\"><b>02&nbsp;,&nbsp;05&nbsp;,&nbsp;07&nbsp;,&nbsp;11&nbsp;,&nbsp;22&nbsp;,&nbsp;36&nbsp;&nbsp;</b></td>\\r\\n      <td width=\"11%\" align=\"center\"><font color=\"#FF0000\"><b>06</b></font></td>\\r\\n      <td width=\"23%\" align=\"center\"><b><font color=\"#0066cc\">\\xb5L</font></b></td>\\r\\n    </tr>\\r\\n\\r\\n    <tr>\\r\\n      <td width=\"16%\" align=\"center\"><font color=\"#0066cc\"><b>727</b></font></td>\\r\\n      <td width=\"16%\" align=\"center\"><font color=\"#0066cc\"><b>2014/12/01</b></font></td>\\r\\n      <td width=\"17%\" align=\"center\"><b>01&nbsp;,&nbsp;02&nbsp;,&nbsp;07&nbsp;,&nbsp;14&nbsp;,&nbsp;19&nbsp;,&nbsp;31&nbsp;&nbsp;</b></td>\\r\\n      <td width=\"11%\" align=\"center\"><font color=\"#FF0000\"><b>07</b></font></td>\\r\\n      <td width=\"23%\" align=\"center\"><b><font color=\"#0066cc\">\\xb5L</font></b></td>\\r\\n    </tr>\\r\\n\\r\\n    <tr>\\r\\n      <td width=\"16%\" align=\"center\"><font color=\"#0066cc\"><b>726</b></font></td>\\r\\n      <td width=\"16%\" align=\"center\"><font color=\"#0066cc\"><b>2014/11/27</b></font></td>\\r\\n      <td width=\"17%\" align=\"center\"><b>01&nbsp;,&nbsp;02&nbsp;,&nbsp;21&nbsp;,&nbsp;29&nbsp;,&nbsp;33&nbsp;,&nbsp;36&nbsp;&nbsp;</b></td>\\r\\n      <td width=\"11%\" align=\"center\"><font color=\"#FF0000\"><b>08</b></font></td>\\r\\n      <td width=\"23%\" align=\"center\"><b><font color=\"#0066cc\">\\xb5L</font></b></td>\\r\\n    </tr>\\r\\n\\r\\n    <tr>\\r\\n      <td width=\"16%\" align=\"center\"><font color=\"#0066cc\"><b>725</b></font></td>\\r\\n      <td width=\"16%\" align=\"center\"><font color=\"#0066cc\"><b>2014/11/24</b></font></td>\\r\\n      <td width=\"17%\" align=\"center\"><b>03&nbsp;,&nbsp;05&nbsp;,&nbsp;19&nbsp;,&nbsp;22&nbsp;,&nbsp;24&nbsp;,&nbsp;32&nbsp;&nbsp;</b></td>\\r\\n      <td width=\"11%\" align=\"center\"><font color=\"#FF0000\"><b>02</b></font></td>\\r\\n      <td width=\"23%\" align=\"center\"><b><font color=\"#0066cc\">\\xb5L</font></b></td>\\r\\n    </tr>\\r\\n\\r\\n    <tr>\\r\\n      <td width=\"16%\" align=\"center\"><font color=\"#0066cc\"><b>724</b></font></td>\\r\\n      <td width=\"16%\" align=\"center\"><font color=\"#0066cc\"><b>2014/11/20</b></font></td>\\r\\n      <td width=\"17%\" align=\"center\"><b>12&nbsp;,&nbsp;17&nbsp;,&nbsp;30&nbsp;,&nbsp;31&nbsp;,&nbsp;33&nbsp;,&nbsp;35&nbsp;&nbsp;</b></td>\\r\\n      <td width=\"11%\" align=\"center\"><font color=\"#FF0000\"><b>04</b></font></td>\\r\\n      <td width=\"23%\" align=\"center\"><b><font color=\"#0066cc\">\\xb5L</font></b></td>\\r\\n    </tr>\\r\\n\\r\\n    <tr>\\r\\n      <td width=\"16%\" align=\"center\"><font color=\"#0066cc\"><b>723</b></font></td>\\r\\n      <td width=\"16%\" align=\"center\"><font color=\"#0066cc\"><b>2014/11/17</b></font></td>\\r\\n      <td width=\"17%\" align=\"center\"><b>05&nbsp;,&nbsp;06&nbsp;,&nbsp;13&nbsp;,&nbsp;24&nbsp;,&nbsp;32&nbsp;,&nbsp;34&nbsp;&nbsp;</b></td>\\r\\n      <td width=\"11%\" align=\"center\"><font color=\"#FF0000\"><b>01</b></font></td>\\r\\n      <td width=\"23%\" align=\"center\"><b><font color=\"#0066cc\">\\xb5L</font></b></td>\\r\\n    </tr>\\r\\n\\r\\n    <tr>\\r\\n      <td width=\"16%\" align=\"center\"><font color=\"#0066cc\"><b>722</b></font></td>\\r\\n      <td width=\"16%\" align=\"center\"><font color=\"#0066cc\"><b>2014/11/13</b></font></td>\\r\\n      <td width=\"17%\" align=\"center\"><b>12&nbsp;,&nbsp;14&nbsp;,&nbsp;15&nbsp;,&nbsp;17&nbsp;,&nbsp;27&nbsp;,&nbsp;35&nbsp;&nbsp;</b></td>\\r\\n      <td width=\"11%\" align=\"center\"><font color=\"#FF0000\"><b>06</b></font></td>\\r\\n      <td width=\"23%\" align=\"center\"><b><font color=\"#0066cc\">\\xb5L</font></b></td>\\r\\n    </tr>\\r\\n\\r\\n    <tr>\\r\\n      <td width=\"16%\" align=\"center\"><font color=\"#0066cc\"><b>721</b></font></td>\\r\\n      <td width=\"16%\" align=\"center\"><font color=\"#0066cc\"><b>2014/11/10</b></font></td>\\r\\n      <td width=\"17%\" align=\"center\"><b>01&nbsp;,&nbsp;06&nbsp;,&nbsp;14&nbsp;,&nbsp;17&nbsp;,&nbsp;31&nbsp;,&nbsp;34&nbsp;&nbsp;</b></td>\\r\\n      <td width=\"11%\" align=\"center\"><font color=\"#FF0000\"><b>08</b></font></td>\\r\\n      <td width=\"23%\" align=\"center\"><b><font color=\"#0066cc\">\\xb5L</font></b></td>\\r\\n    </tr>\\r\\n\\r\\n    <tr>\\r\\n      <td width=\"16%\" align=\"center\"><font color=\"#0066cc\"><b>720</b></font></td>\\r\\n      <td width=\"16%\" align=\"center\"><font color=\"#0066cc\"><b>2014/11/06</b></font></td>\\r\\n      <td width=\"17%\" align=\"center\"><b>05&nbsp;,&nbsp;15&nbsp;,&nbsp;19&nbsp;,&nbsp;20&nbsp;,&nbsp;32&nbsp;,&nbsp;36&nbsp;&nbsp;</b></td>\\r\\n      <td width=\"11%\" align=\"center\"><font color=\"#FF0000\"><b>03</b></font></td>\\r\\n      <td width=\"23%\" align=\"center\"><b><font color=\"#0066cc\">\\xb5L</font></b></td>\\r\\n    </tr>\\r\\n\\r\\n    <tr>\\r\\n      <td width=\"16%\" align=\"center\"><font color=\"#0066cc\"><b>719</b></font></td>\\r\\n      <td width=\"16%\" align=\"center\"><font color=\"#0066cc\"><b>2014/11/03</b></font></td>\\r\\n      <td width=\"17%\" align=\"center\"><b>02&nbsp;,&nbsp;06&nbsp;,&nbsp;08&nbsp;,&nbsp;11&nbsp;,&nbsp;26&nbsp;,&nbsp;38&nbsp;&nbsp;</b></td>\\r\\n      <td width=\"11%\" align=\"center\"><font color=\"#FF0000\"><b>07</b></font></td>\\r\\n      <td width=\"23%\" align=\"center\"><b><font color=\"#0066cc\">\\xb5L</font></b></td>\\r\\n    </tr>\\r\\n\\r\\n    <tr>\\r\\n      <td width=\"16%\" align=\"center\"><font color=\"#0066cc\"><b>718</b></font></td>\\r\\n      <td width=\"16%\" align=\"center\"><font color=\"#0066cc\"><b>2014/10/30</b></font></td>\\r\\n      <td width=\"17%\" align=\"center\"><b>06&nbsp;,&nbsp;08&nbsp;,&nbsp;09&nbsp;,&nbsp;10&nbsp;,&nbsp;27&nbsp;,&nbsp;34&nbsp;&nbsp;</b></td>\\r\\n      <td width=\"11%\" align=\"center\"><font color=\"#FF0000\"><b>06</b></font></td>\\r\\n      <td width=\"23%\" align=\"center\"><b><font color=\"#0066cc\">\\xb5L</font></b></td>\\r\\n    </tr>\\r\\n\\r\\n    <tr>\\r\\n      <td width=\"16%\" align=\"center\"><font color=\"#0066cc\"><b>717</b></font></td>\\r\\n      <td width=\"16%\" align=\"center\"><font color=\"#0066cc\"><b>2014/10/27</b></font></td>\\r\\n      <td width=\"17%\" align=\"center\"><b>07&nbsp;,&nbsp;09&nbsp;,&nbsp;10&nbsp;,&nbsp;24&nbsp;,&nbsp;37&nbsp;,&nbsp;38&nbsp;&nbsp;</b></td>\\r\\n      <td width=\"11%\" align=\"center\"><font color=\"#FF0000\"><b>08</b></font></td>\\r\\n      <td width=\"23%\" align=\"center\"><b><font color=\"#0066cc\">\\xb5L</font></b></td>\\r\\n    </tr>\\r\\n\\r\\n    <tr>\\r\\n      <td width=\"16%\" align=\"center\"><font color=\"#0066cc\"><b>716</b></font></td>\\r\\n      <td width=\"16%\" align=\"center\"><font color=\"#0066cc\"><b>2014/10/23</b></font></td>\\r\\n      <td width=\"17%\" align=\"center\"><b>08&nbsp;,&nbsp;12&nbsp;,&nbsp;27&nbsp;,&nbsp;28&nbsp;,&nbsp;35&nbsp;,&nbsp;38&nbsp;&nbsp;</b></td>\\r\\n      <td width=\"11%\" align=\"center\"><font color=\"#FF0000\"><b>06</b></font></td>\\r\\n      <td width=\"23%\" align=\"center\"><b><font color=\"#0066cc\">\\xb5L</font></b></td>\\r\\n    </tr>\\r\\n\\r\\n    <tr>\\r\\n      <td width=\"16%\" align=\"center\"><font color=\"#0066cc\"><b>715</b></font></td>\\r\\n      <td width=\"16%\" align=\"center\"><font color=\"#0066cc\"><b>2014/10/20</b></font></td>\\r\\n      <td width=\"17%\" align=\"center\"><b>11&nbsp;,&nbsp;21&nbsp;,&nbsp;25&nbsp;,&nbsp;30&nbsp;,&nbsp;34&nbsp;,&nbsp;37&nbsp;&nbsp;</b></td>\\r\\n      <td width=\"11%\" align=\"center\"><font color=\"#FF0000\"><b>01</b></font></td>\\r\\n      <td width=\"23%\" align=\"center\"><b><font color=\"#0066cc\">\\xb5L</font></b></td>\\r\\n    </tr>\\r\\n\\r\\n    <tr>\\r\\n      <td width=\"16%\" align=\"center\"><font color=\"#0066cc\"><b>714</b></font></td>\\r\\n      <td width=\"16%\" align=\"center\"><font color=\"#0066cc\"><b>2014/10/16</b></font></td>\\r\\n      <td width=\"17%\" align=\"center\"><b>09&nbsp;,&nbsp;11&nbsp;,&nbsp;12&nbsp;,&nbsp;20&nbsp;,&nbsp;24&nbsp;,&nbsp;30&nbsp;&nbsp;</b></td>\\r\\n      <td width=\"11%\" align=\"center\"><font color=\"#FF0000\"><b>02</b></font></td>\\r\\n      <td width=\"23%\" align=\"center\"><b><font color=\"#0066cc\">\\xb5L</font></b></td>\\r\\n    </tr>\\r\\n\\r\\n    <tr>\\r\\n      <td width=\"16%\" align=\"center\"><font color=\"#0066cc\"><b>713</b></font></td>\\r\\n      <td width=\"16%\" align=\"center\"><font color=\"#0066cc\"><b>2014/10/13</b></font></td>\\r\\n      <td width=\"17%\" align=\"center\"><b>03&nbsp;,&nbsp;19&nbsp;,&nbsp;26&nbsp;,&nbsp;30&nbsp;,&nbsp;33&nbsp;,&nbsp;35&nbsp;&nbsp;</b></td>\\r\\n      <td width=\"11%\" align=\"center\"><font color=\"#FF0000\"><b>02</b></font></td>\\r\\n      <td width=\"23%\" align=\"center\"><b><font color=\"#0066cc\">\\xb5L</font></b></td>\\r\\n    </tr>\\r\\n\\r\\n    <tr>\\r\\n      <td width=\"16%\" align=\"center\"><font color=\"#0066cc\"><b>712</b></font></td>\\r\\n      <td width=\"16%\" align=\"center\"><font color=\"#0066cc\"><b>2014/10/09</b></font></td>\\r\\n      <td width=\"17%\" align=\"center\"><b>02&nbsp;,&nbsp;06&nbsp;,&nbsp;07&nbsp;,&nbsp;08&nbsp;,&nbsp;09&nbsp;,&nbsp;38&nbsp;&nbsp;</b></td>\\r\\n      <td width=\"11%\" align=\"center\"><font color=\"#FF0000\"><b>08</b></font></td>\\r\\n      <td width=\"23%\" align=\"center\"><b><font color=\"#0066cc\">\\xb5L</font></b></td>\\r\\n    </tr>\\r\\n\\r\\n    <tr>\\r\\n      <td width=\"16%\" align=\"center\"><font color=\"#0066cc\"><b>711</b></font></td>\\r\\n      <td width=\"16%\" align=\"center\"><font color=\"#0066cc\"><b>2014/10/06</b></font></td>\\r\\n      <td width=\"17%\" align=\"center\"><b>15&nbsp;,&nbsp;20&nbsp;,&nbsp;22&nbsp;,&nbsp;25&nbsp;,&nbsp;33&nbsp;,&nbsp;35&nbsp;&nbsp;</b></td>\\r\\n      <td width=\"11%\" align=\"center\"><font color=\"#FF0000\"><b>07</b></font></td>\\r\\n      <td width=\"23%\" align=\"center\"><b><font color=\"#0066cc\">\\xb5L</font></b></td>\\r\\n    </tr>\\r\\n\\r\\n    <tr>\\r\\n      <td width=\"16%\" align=\"center\"><font color=\"#0066cc\"><b>710</b></font></td>\\r\\n      <td width=\"16%\" align=\"center\"><font color=\"#0066cc\"><b>2014/10/02</b></font></td>\\r\\n      <td width=\"17%\" align=\"center\"><b>04&nbsp;,&nbsp;12&nbsp;,&nbsp;13&nbsp;,&nbsp;26&nbsp;,&nbsp;31&nbsp;,&nbsp;33&nbsp;&nbsp;</b></td>\\r\\n      <td width=\"11%\" align=\"center\"><font color=\"#FF0000\"><b>06</b></font></td>\\r\\n      <td width=\"23%\" align=\"center\"><b><font color=\"#0066cc\">\\xb5L</font></b></td>\\r\\n    </tr>\\r\\n\\r\\n    <tr>\\r\\n      <td width=\"16%\" align=\"center\"><font color=\"#0066cc\"><b>709</b></font></td>\\r\\n      <td width=\"16%\" align=\"center\"><font color=\"#0066cc\"><b>2014/09/29</b></font></td>\\r\\n      <td width=\"17%\" align=\"center\"><b>02&nbsp;,&nbsp;08&nbsp;,&nbsp;15&nbsp;,&nbsp;27&nbsp;,&nbsp;28&nbsp;,&nbsp;36&nbsp;&nbsp;</b></td>\\r\\n      <td width=\"11%\" align=\"center\"><font color=\"#FF0000\"><b>07</b></font></td>\\r\\n      <td width=\"23%\" align=\"center\"><b><font color=\"#0066cc\">\\xb5L</font></b></td>\\r\\n    </tr>\\r\\n\\r\\n    <tr>\\r\\n      <td width=\"16%\" align=\"center\"><font color=\"#0066cc\"><b>708</b></font></td>\\r\\n      <td width=\"16%\" align=\"center\"><font color=\"#0066cc\"><b>2014/09/25</b></font></td>\\r\\n      <td width=\"17%\" align=\"center\"><b>10&nbsp;,&nbsp;12&nbsp;,&nbsp;22&nbsp;,&nbsp;26&nbsp;,&nbsp;28&nbsp;,&nbsp;36&nbsp;&nbsp;</b></td>\\r\\n      <td width=\"11%\" align=\"center\"><font color=\"#FF0000\"><b>08</b></font></td>\\r\\n      <td width=\"23%\" align=\"center\"><b><font color=\"#0066cc\">\\xb5L</font></b></td>\\r\\n    </tr>\\r\\n\\r\\n    <tr>\\r\\n      <td width=\"16%\" align=\"center\"><font color=\"#0066cc\"><b>707</b></font></td>\\r\\n      <td width=\"16%\" align=\"center\"><font color=\"#0066cc\"><b>2014/09/22</b></font></td>\\r\\n      <td width=\"17%\" align=\"center\"><b>08&nbsp;,&nbsp;15&nbsp;,&nbsp;18&nbsp;,&nbsp;23&nbsp;,&nbsp;31&nbsp;,&nbsp;37&nbsp;&nbsp;</b></td>\\r\\n      <td width=\"11%\" align=\"center\"><font color=\"#FF0000\"><b>08</b></font></td>\\r\\n      <td width=\"23%\" align=\"center\"><b><font color=\"#0066cc\">\\xb5L</font></b></td>\\r\\n    </tr>\\r\\n\\r\\n    <tr>\\r\\n      <td width=\"16%\" align=\"center\"><font color=\"#0066cc\"><b>706</b></font></td>\\r\\n      <td width=\"16%\" align=\"center\"><font color=\"#0066cc\"><b>2014/09/18</b></font></td>\\r\\n      <td width=\"17%\" align=\"center\"><b>05&nbsp;,&nbsp;10&nbsp;,&nbsp;15&nbsp;,&nbsp;23&nbsp;,&nbsp;24&nbsp;,&nbsp;35&nbsp;&nbsp;</b></td>\\r\\n      <td width=\"11%\" align=\"center\"><font color=\"#FF0000\"><b>06</b></font></td>\\r\\n      <td width=\"23%\" align=\"center\"><b><font color=\"#0066cc\">\\xb5L</font></b></td>\\r\\n    </tr>\\r\\n\\r\\n    <tr>\\r\\n      <td width=\"16%\" align=\"center\"><font color=\"#0066cc\"><b>705</b></font></td>\\r\\n      <td width=\"16%\" align=\"center\"><font color=\"#0066cc\"><b>2014/09/15</b></font></td>\\r\\n      <td width=\"17%\" align=\"center\"><b>03&nbsp;,&nbsp;14&nbsp;,&nbsp;15&nbsp;,&nbsp;20&nbsp;,&nbsp;21&nbsp;,&nbsp;28&nbsp;&nbsp;</b></td>\\r\\n      <td width=\"11%\" align=\"center\"><font color=\"#FF0000\"><b>08</b></font></td>\\r\\n      <td width=\"23%\" align=\"center\"><b><font color=\"#0066cc\">\\xb5L</font></b></td>\\r\\n    </tr>\\r\\n\\r\\n    <tr>\\r\\n      <td width=\"16%\" align=\"center\"><font color=\"#0066cc\"><b>704</b></font></td>\\r\\n      <td width=\"16%\" align=\"center\"><font color=\"#0066cc\"><b>2014/09/11</b></font></td>\\r\\n      <td width=\"17%\" align=\"center\"><b>05&nbsp;,&nbsp;07&nbsp;,&nbsp;15&nbsp;,&nbsp;25&nbsp;,&nbsp;29&nbsp;,&nbsp;37&nbsp;&nbsp;</b></td>\\r\\n      <td width=\"11%\" align=\"center\"><font color=\"#FF0000\"><b>08</b></font></td>\\r\\n      <td width=\"23%\" align=\"center\"><b><font color=\"#0066cc\">\\xb5L</font></b></td>\\r\\n    </tr>\\r\\n\\r\\n  </table>\\r\\n  </center>\\r\\n</div>\\r\\n  <p align=\"center\"><font size=\"2\">&nbsp;\\xc1`\\xa6@\\xa6\\xb325\\xad\\xb6   \\xa5\\xd8\\xabe\\xa6b\\xb2\\xc41\\xad\\xb6<br>                    \\r\\n  </font>\\r\\n  <font size=\"2\">\\r\\n\\r\\n [ <a href=\"list.asp?indexpage=1\">1</a> ]                  \\r\\n\\r\\n [ <a href=\"list.asp?indexpage=2\">2</a> ]                  \\r\\n\\r\\n [ <a href=\"list.asp?indexpage=3\">3</a> ]                  \\r\\n\\r\\n [ <a href=\"list.asp?indexpage=4\">4</a> ]                  \\r\\n\\r\\n [ <a href=\"list.asp?indexpage=5\">5</a> ]                  \\r\\n\\r\\n [ <a href=\"list.asp?indexpage=6\">6</a> ]                  \\r\\n\\r\\n [ <a href=\"list.asp?indexpage=7\">7</a> ]                  \\r\\n\\r\\n [ <a href=\"list.asp?indexpage=8\">8</a> ]                  \\r\\n\\r\\n [ <a href=\"list.asp?indexpage=9\">9</a> ]                  \\r\\n\\r\\n [ <a href=\"list.asp?indexpage=10\">10</a> ]                  \\r\\n\\r\\n [ <a href=\"list.asp?indexpage=11\">11</a> ]                  \\r\\n\\r\\n [ <a href=\"list.asp?indexpage=12\">12</a> ]                  \\r\\n\\r\\n [ <a href=\"list.asp?indexpage=13\">13</a> ]                  \\r\\n\\r\\n [ <a href=\"list.asp?indexpage=14\">14</a> ]                  \\r\\n\\r\\n [ <a href=\"list.asp?indexpage=15\">15</a> ]                  \\r\\n\\r\\n [ <a href=\"list.asp?indexpage=16\">16</a> ]                  \\r\\n\\r\\n [ <a href=\"list.asp?indexpage=17\">17</a> ]                  \\r\\n\\r\\n [ <a href=\"list.asp?indexpage=18\">18</a> ]                  \\r\\n\\r\\n [ <a href=\"list.asp?indexpage=19\">19</a> ]                  \\r\\n\\r\\n [ <a href=\"list.asp?indexpage=20\">20</a> ]                  \\r\\n\\r\\n [ <a href=\"list.asp?indexpage=21\">21</a> ]                  \\r\\n\\r\\n [ <a href=\"list.asp?indexpage=22\">22</a> ]                  \\r\\n\\r\\n [ <a href=\"list.asp?indexpage=23\">23</a> ]                  \\r\\n\\r\\n [ <a href=\"list.asp?indexpage=24\">24</a> ]                  \\r\\n\\r\\n [ <a href=\"list.asp?indexpage=25\">25</a> ]                  \\r\\n\\r\\n\\r\\n<p align=\"center\"><br>\\r\\n<a href=\"http://www.pilio.idv.tw/foodonline/\" target=\"_blank\"><br>\\r\\n</a><br>\\r\\n\\xc0H\\xae\\xc9\\xb5\\xb9\\xb1z\\xb3\\xcc\\xb7s\\xaa\\xba\\xb8\\xea\\xb0T..</p>\\r\\n\\r\\n</font>\\r\\n\\r\\n</body>\\r\\n\\r\\n</html>'"
       ]
      }
     ],
     "prompt_number": 128
    },
    {
     "cell_type": "markdown",
     "metadata": {},
     "source": [
      "### 5-2 Pandas \u662f\u8cc7\u6599\u5206\u6790\u7684\u597d\u670b\u53cb\n",
      "\n",
      "Pandas \u662f\u76f8\u7576\u7d05\u7684\u8cc7\u6599\u5206\u6790\u5957\u4ef6, \u4f5c\u8005\u662f Wes McKinney (\"Python for Data Analysis\" \u7684\u4f5c\u8005), \u4ed6\u6709\u5230\u904e\u53f0\u7063\u53c3\u52a0 2014 \u5e74\u7684 PyCon APAC\u3002\n",
      "\n",
      "[Wes McKinney \u5728 PyCon APAC 2014 (YouTube)](http://youtu.be/i93jidckQ7A)"
     ]
    },
    {
     "cell_type": "code",
     "collapsed": false,
     "input": [
      "import pandas as pd"
     ],
     "language": "python",
     "metadata": {},
     "outputs": [],
     "prompt_number": 93
    },
    {
     "cell_type": "code",
     "collapsed": false,
     "input": [
      "dfs = pd.read_html(res.text)"
     ],
     "language": "python",
     "metadata": {},
     "outputs": [],
     "prompt_number": 94
    },
    {
     "cell_type": "code",
     "collapsed": false,
     "input": [
      "len(dfs)"
     ],
     "language": "python",
     "metadata": {},
     "outputs": [
      {
       "metadata": {},
       "output_type": "pyout",
       "prompt_number": 129,
       "text": [
        "2"
       ]
      }
     ],
     "prompt_number": 129
    },
    {
     "cell_type": "markdown",
     "metadata": {},
     "source": [
      "\u9019\u610f\u601d\u662f dfs \u6709\u5169\u5f35\u300c\u8868\u683c\u300d, \u6211\u5011\u770b\u770b\u7b2c\u4e8c\u5f35 (\u7de8\u865f 1)\u3002"
     ]
    },
    {
     "cell_type": "code",
     "collapsed": false,
     "input": [
      "dfs[1]"
     ],
     "language": "python",
     "metadata": {},
     "outputs": [
      {
       "html": [
        "<div style=\"max-height:1000px;max-width:1500px;overflow:auto;\">\n",
        "<table border=\"1\" class=\"dataframe\">\n",
        "  <thead>\n",
        "    <tr style=\"text-align: right;\">\n",
        "      <th></th>\n",
        "      <th>0</th>\n",
        "      <th>1</th>\n",
        "      <th>2</th>\n",
        "      <th>3</th>\n",
        "      <th>4</th>\n",
        "    </tr>\n",
        "  </thead>\n",
        "  <tbody>\n",
        "    <tr>\n",
        "      <th>0 </th>\n",
        "      <td> \u00b4\u00c1\u00bc\u00c6</td>\n",
        "      <td>   \u00b6}\u00bc\u00fa\u00a4\u00e9\u00b4\u00c1</td>\n",
        "      <td>        \u00ab\u00c2\u00a4O\u00b1m\u00b2\u00c4\u00a4@\u00b0\u00cf\u00a4\u00a4\u00bc\u00fa\u00b8\u00b9\u00bdX</td>\n",
        "      <td> \u00b2\u00c4\u00a4G\u00b0\u00cf\u00b8\u00b9</td>\n",
        "      <td> \u00b3\u00c6\u00b5\u00f9</td>\n",
        "    </tr>\n",
        "    <tr>\n",
        "      <th>1 </th>\n",
        "      <td>  733</td>\n",
        "      <td> 2014/12/22</td>\n",
        "      <td> 01\u00a0,\u00a004\u00a0,\u00a005\u00a0,\u00a013\u00a0,\u00a019\u00a0,\u00a037</td>\n",
        "      <td>       02</td>\n",
        "      <td>   \u00b5L</td>\n",
        "    </tr>\n",
        "    <tr>\n",
        "      <th>2 </th>\n",
        "      <td>  732</td>\n",
        "      <td> 2014/12/18</td>\n",
        "      <td> 01\u00a0,\u00a005\u00a0,\u00a018\u00a0,\u00a020\u00a0,\u00a026\u00a0,\u00a029</td>\n",
        "      <td>       05</td>\n",
        "      <td>   \u00b5L</td>\n",
        "    </tr>\n",
        "    <tr>\n",
        "      <th>3 </th>\n",
        "      <td>  731</td>\n",
        "      <td> 2014/12/15</td>\n",
        "      <td> 05\u00a0,\u00a010\u00a0,\u00a011\u00a0,\u00a015\u00a0,\u00a036\u00a0,\u00a038</td>\n",
        "      <td>       06</td>\n",
        "      <td>   \u00b5L</td>\n",
        "    </tr>\n",
        "    <tr>\n",
        "      <th>4 </th>\n",
        "      <td>  730</td>\n",
        "      <td> 2014/12/11</td>\n",
        "      <td> 07\u00a0,\u00a012\u00a0,\u00a013\u00a0,\u00a021\u00a0,\u00a024\u00a0,\u00a028</td>\n",
        "      <td>       06</td>\n",
        "      <td>   \u00b5L</td>\n",
        "    </tr>\n",
        "    <tr>\n",
        "      <th>5 </th>\n",
        "      <td>  729</td>\n",
        "      <td> 2014/12/08</td>\n",
        "      <td> 11\u00a0,\u00a020\u00a0,\u00a024\u00a0,\u00a027\u00a0,\u00a035\u00a0,\u00a038</td>\n",
        "      <td>       08</td>\n",
        "      <td>   \u00b5L</td>\n",
        "    </tr>\n",
        "    <tr>\n",
        "      <th>6 </th>\n",
        "      <td>  728</td>\n",
        "      <td> 2014/12/04</td>\n",
        "      <td> 02\u00a0,\u00a005\u00a0,\u00a007\u00a0,\u00a011\u00a0,\u00a022\u00a0,\u00a036</td>\n",
        "      <td>       06</td>\n",
        "      <td>   \u00b5L</td>\n",
        "    </tr>\n",
        "    <tr>\n",
        "      <th>7 </th>\n",
        "      <td>  727</td>\n",
        "      <td> 2014/12/01</td>\n",
        "      <td> 01\u00a0,\u00a002\u00a0,\u00a007\u00a0,\u00a014\u00a0,\u00a019\u00a0,\u00a031</td>\n",
        "      <td>       07</td>\n",
        "      <td>   \u00b5L</td>\n",
        "    </tr>\n",
        "    <tr>\n",
        "      <th>8 </th>\n",
        "      <td>  726</td>\n",
        "      <td> 2014/11/27</td>\n",
        "      <td> 01\u00a0,\u00a002\u00a0,\u00a021\u00a0,\u00a029\u00a0,\u00a033\u00a0,\u00a036</td>\n",
        "      <td>       08</td>\n",
        "      <td>   \u00b5L</td>\n",
        "    </tr>\n",
        "    <tr>\n",
        "      <th>9 </th>\n",
        "      <td>  725</td>\n",
        "      <td> 2014/11/24</td>\n",
        "      <td> 03\u00a0,\u00a005\u00a0,\u00a019\u00a0,\u00a022\u00a0,\u00a024\u00a0,\u00a032</td>\n",
        "      <td>       02</td>\n",
        "      <td>   \u00b5L</td>\n",
        "    </tr>\n",
        "    <tr>\n",
        "      <th>10</th>\n",
        "      <td>  724</td>\n",
        "      <td> 2014/11/20</td>\n",
        "      <td> 12\u00a0,\u00a017\u00a0,\u00a030\u00a0,\u00a031\u00a0,\u00a033\u00a0,\u00a035</td>\n",
        "      <td>       04</td>\n",
        "      <td>   \u00b5L</td>\n",
        "    </tr>\n",
        "    <tr>\n",
        "      <th>11</th>\n",
        "      <td>  723</td>\n",
        "      <td> 2014/11/17</td>\n",
        "      <td> 05\u00a0,\u00a006\u00a0,\u00a013\u00a0,\u00a024\u00a0,\u00a032\u00a0,\u00a034</td>\n",
        "      <td>       01</td>\n",
        "      <td>   \u00b5L</td>\n",
        "    </tr>\n",
        "    <tr>\n",
        "      <th>12</th>\n",
        "      <td>  722</td>\n",
        "      <td> 2014/11/13</td>\n",
        "      <td> 12\u00a0,\u00a014\u00a0,\u00a015\u00a0,\u00a017\u00a0,\u00a027\u00a0,\u00a035</td>\n",
        "      <td>       06</td>\n",
        "      <td>   \u00b5L</td>\n",
        "    </tr>\n",
        "    <tr>\n",
        "      <th>13</th>\n",
        "      <td>  721</td>\n",
        "      <td> 2014/11/10</td>\n",
        "      <td> 01\u00a0,\u00a006\u00a0,\u00a014\u00a0,\u00a017\u00a0,\u00a031\u00a0,\u00a034</td>\n",
        "      <td>       08</td>\n",
        "      <td>   \u00b5L</td>\n",
        "    </tr>\n",
        "    <tr>\n",
        "      <th>14</th>\n",
        "      <td>  720</td>\n",
        "      <td> 2014/11/06</td>\n",
        "      <td> 05\u00a0,\u00a015\u00a0,\u00a019\u00a0,\u00a020\u00a0,\u00a032\u00a0,\u00a036</td>\n",
        "      <td>       03</td>\n",
        "      <td>   \u00b5L</td>\n",
        "    </tr>\n",
        "    <tr>\n",
        "      <th>15</th>\n",
        "      <td>  719</td>\n",
        "      <td> 2014/11/03</td>\n",
        "      <td> 02\u00a0,\u00a006\u00a0,\u00a008\u00a0,\u00a011\u00a0,\u00a026\u00a0,\u00a038</td>\n",
        "      <td>       07</td>\n",
        "      <td>   \u00b5L</td>\n",
        "    </tr>\n",
        "    <tr>\n",
        "      <th>16</th>\n",
        "      <td>  718</td>\n",
        "      <td> 2014/10/30</td>\n",
        "      <td> 06\u00a0,\u00a008\u00a0,\u00a009\u00a0,\u00a010\u00a0,\u00a027\u00a0,\u00a034</td>\n",
        "      <td>       06</td>\n",
        "      <td>   \u00b5L</td>\n",
        "    </tr>\n",
        "    <tr>\n",
        "      <th>17</th>\n",
        "      <td>  717</td>\n",
        "      <td> 2014/10/27</td>\n",
        "      <td> 07\u00a0,\u00a009\u00a0,\u00a010\u00a0,\u00a024\u00a0,\u00a037\u00a0,\u00a038</td>\n",
        "      <td>       08</td>\n",
        "      <td>   \u00b5L</td>\n",
        "    </tr>\n",
        "    <tr>\n",
        "      <th>18</th>\n",
        "      <td>  716</td>\n",
        "      <td> 2014/10/23</td>\n",
        "      <td> 08\u00a0,\u00a012\u00a0,\u00a027\u00a0,\u00a028\u00a0,\u00a035\u00a0,\u00a038</td>\n",
        "      <td>       06</td>\n",
        "      <td>   \u00b5L</td>\n",
        "    </tr>\n",
        "    <tr>\n",
        "      <th>19</th>\n",
        "      <td>  715</td>\n",
        "      <td> 2014/10/20</td>\n",
        "      <td> 11\u00a0,\u00a021\u00a0,\u00a025\u00a0,\u00a030\u00a0,\u00a034\u00a0,\u00a037</td>\n",
        "      <td>       01</td>\n",
        "      <td>   \u00b5L</td>\n",
        "    </tr>\n",
        "    <tr>\n",
        "      <th>20</th>\n",
        "      <td>  714</td>\n",
        "      <td> 2014/10/16</td>\n",
        "      <td> 09\u00a0,\u00a011\u00a0,\u00a012\u00a0,\u00a020\u00a0,\u00a024\u00a0,\u00a030</td>\n",
        "      <td>       02</td>\n",
        "      <td>   \u00b5L</td>\n",
        "    </tr>\n",
        "    <tr>\n",
        "      <th>21</th>\n",
        "      <td>  713</td>\n",
        "      <td> 2014/10/13</td>\n",
        "      <td> 03\u00a0,\u00a019\u00a0,\u00a026\u00a0,\u00a030\u00a0,\u00a033\u00a0,\u00a035</td>\n",
        "      <td>       02</td>\n",
        "      <td>   \u00b5L</td>\n",
        "    </tr>\n",
        "    <tr>\n",
        "      <th>22</th>\n",
        "      <td>  712</td>\n",
        "      <td> 2014/10/09</td>\n",
        "      <td> 02\u00a0,\u00a006\u00a0,\u00a007\u00a0,\u00a008\u00a0,\u00a009\u00a0,\u00a038</td>\n",
        "      <td>       08</td>\n",
        "      <td>   \u00b5L</td>\n",
        "    </tr>\n",
        "    <tr>\n",
        "      <th>23</th>\n",
        "      <td>  711</td>\n",
        "      <td> 2014/10/06</td>\n",
        "      <td> 15\u00a0,\u00a020\u00a0,\u00a022\u00a0,\u00a025\u00a0,\u00a033\u00a0,\u00a035</td>\n",
        "      <td>       07</td>\n",
        "      <td>   \u00b5L</td>\n",
        "    </tr>\n",
        "    <tr>\n",
        "      <th>24</th>\n",
        "      <td>  710</td>\n",
        "      <td> 2014/10/02</td>\n",
        "      <td> 04\u00a0,\u00a012\u00a0,\u00a013\u00a0,\u00a026\u00a0,\u00a031\u00a0,\u00a033</td>\n",
        "      <td>       06</td>\n",
        "      <td>   \u00b5L</td>\n",
        "    </tr>\n",
        "    <tr>\n",
        "      <th>25</th>\n",
        "      <td>  709</td>\n",
        "      <td> 2014/09/29</td>\n",
        "      <td> 02\u00a0,\u00a008\u00a0,\u00a015\u00a0,\u00a027\u00a0,\u00a028\u00a0,\u00a036</td>\n",
        "      <td>       07</td>\n",
        "      <td>   \u00b5L</td>\n",
        "    </tr>\n",
        "    <tr>\n",
        "      <th>26</th>\n",
        "      <td>  708</td>\n",
        "      <td> 2014/09/25</td>\n",
        "      <td> 10\u00a0,\u00a012\u00a0,\u00a022\u00a0,\u00a026\u00a0,\u00a028\u00a0,\u00a036</td>\n",
        "      <td>       08</td>\n",
        "      <td>   \u00b5L</td>\n",
        "    </tr>\n",
        "    <tr>\n",
        "      <th>27</th>\n",
        "      <td>  707</td>\n",
        "      <td> 2014/09/22</td>\n",
        "      <td> 08\u00a0,\u00a015\u00a0,\u00a018\u00a0,\u00a023\u00a0,\u00a031\u00a0,\u00a037</td>\n",
        "      <td>       08</td>\n",
        "      <td>   \u00b5L</td>\n",
        "    </tr>\n",
        "    <tr>\n",
        "      <th>28</th>\n",
        "      <td>  706</td>\n",
        "      <td> 2014/09/18</td>\n",
        "      <td> 05\u00a0,\u00a010\u00a0,\u00a015\u00a0,\u00a023\u00a0,\u00a024\u00a0,\u00a035</td>\n",
        "      <td>       06</td>\n",
        "      <td>   \u00b5L</td>\n",
        "    </tr>\n",
        "    <tr>\n",
        "      <th>29</th>\n",
        "      <td>  705</td>\n",
        "      <td> 2014/09/15</td>\n",
        "      <td> 03\u00a0,\u00a014\u00a0,\u00a015\u00a0,\u00a020\u00a0,\u00a021\u00a0,\u00a028</td>\n",
        "      <td>       08</td>\n",
        "      <td>   \u00b5L</td>\n",
        "    </tr>\n",
        "    <tr>\n",
        "      <th>30</th>\n",
        "      <td>  704</td>\n",
        "      <td> 2014/09/11</td>\n",
        "      <td> 05\u00a0,\u00a007\u00a0,\u00a015\u00a0,\u00a025\u00a0,\u00a029\u00a0,\u00a037</td>\n",
        "      <td>       08</td>\n",
        "      <td>   \u00b5L</td>\n",
        "    </tr>\n",
        "  </tbody>\n",
        "</table>\n",
        "</div>"
       ],
       "metadata": {},
       "output_type": "pyout",
       "prompt_number": 96,
       "text": [
        "       0           1                            2         3     4\n",
        "0   \u00b4\u00c1\u00bc\u00c6    \u00b6}\u00bc\u00fa\u00a4\u00e9\u00b4\u00c1         \u00ab\u00c2\u00a4O\u00b1m\u00b2\u00c4\u00a4@\u00b0\u00cf\u00a4\u00a4\u00bc\u00fa\u00b8\u00b9\u00bdX  \u00b2\u00c4\u00a4G\u00b0\u00cf\u00b8\u00b9  \u00b3\u00c6\u00b5\u00f9\n",
        "1    733  2014/12/22  01\u00a0,\u00a004\u00a0,\u00a005\u00a0,\u00a013\u00a0,\u00a019\u00a0,\u00a037        02    \u00b5L\n",
        "2    732  2014/12/18  01\u00a0,\u00a005\u00a0,\u00a018\u00a0,\u00a020\u00a0,\u00a026\u00a0,\u00a029        05    \u00b5L\n",
        "3    731  2014/12/15  05\u00a0,\u00a010\u00a0,\u00a011\u00a0,\u00a015\u00a0,\u00a036\u00a0,\u00a038        06    \u00b5L\n",
        "4    730  2014/12/11  07\u00a0,\u00a012\u00a0,\u00a013\u00a0,\u00a021\u00a0,\u00a024\u00a0,\u00a028        06    \u00b5L\n",
        "5    729  2014/12/08  11\u00a0,\u00a020\u00a0,\u00a024\u00a0,\u00a027\u00a0,\u00a035\u00a0,\u00a038        08    \u00b5L\n",
        "6    728  2014/12/04  02\u00a0,\u00a005\u00a0,\u00a007\u00a0,\u00a011\u00a0,\u00a022\u00a0,\u00a036        06    \u00b5L\n",
        "7    727  2014/12/01  01\u00a0,\u00a002\u00a0,\u00a007\u00a0,\u00a014\u00a0,\u00a019\u00a0,\u00a031        07    \u00b5L\n",
        "8    726  2014/11/27  01\u00a0,\u00a002\u00a0,\u00a021\u00a0,\u00a029\u00a0,\u00a033\u00a0,\u00a036        08    \u00b5L\n",
        "9    725  2014/11/24  03\u00a0,\u00a005\u00a0,\u00a019\u00a0,\u00a022\u00a0,\u00a024\u00a0,\u00a032        02    \u00b5L\n",
        "10   724  2014/11/20  12\u00a0,\u00a017\u00a0,\u00a030\u00a0,\u00a031\u00a0,\u00a033\u00a0,\u00a035        04    \u00b5L\n",
        "11   723  2014/11/17  05\u00a0,\u00a006\u00a0,\u00a013\u00a0,\u00a024\u00a0,\u00a032\u00a0,\u00a034        01    \u00b5L\n",
        "12   722  2014/11/13  12\u00a0,\u00a014\u00a0,\u00a015\u00a0,\u00a017\u00a0,\u00a027\u00a0,\u00a035        06    \u00b5L\n",
        "13   721  2014/11/10  01\u00a0,\u00a006\u00a0,\u00a014\u00a0,\u00a017\u00a0,\u00a031\u00a0,\u00a034        08    \u00b5L\n",
        "14   720  2014/11/06  05\u00a0,\u00a015\u00a0,\u00a019\u00a0,\u00a020\u00a0,\u00a032\u00a0,\u00a036        03    \u00b5L\n",
        "15   719  2014/11/03  02\u00a0,\u00a006\u00a0,\u00a008\u00a0,\u00a011\u00a0,\u00a026\u00a0,\u00a038        07    \u00b5L\n",
        "16   718  2014/10/30  06\u00a0,\u00a008\u00a0,\u00a009\u00a0,\u00a010\u00a0,\u00a027\u00a0,\u00a034        06    \u00b5L\n",
        "17   717  2014/10/27  07\u00a0,\u00a009\u00a0,\u00a010\u00a0,\u00a024\u00a0,\u00a037\u00a0,\u00a038        08    \u00b5L\n",
        "18   716  2014/10/23  08\u00a0,\u00a012\u00a0,\u00a027\u00a0,\u00a028\u00a0,\u00a035\u00a0,\u00a038        06    \u00b5L\n",
        "19   715  2014/10/20  11\u00a0,\u00a021\u00a0,\u00a025\u00a0,\u00a030\u00a0,\u00a034\u00a0,\u00a037        01    \u00b5L\n",
        "20   714  2014/10/16  09\u00a0,\u00a011\u00a0,\u00a012\u00a0,\u00a020\u00a0,\u00a024\u00a0,\u00a030        02    \u00b5L\n",
        "21   713  2014/10/13  03\u00a0,\u00a019\u00a0,\u00a026\u00a0,\u00a030\u00a0,\u00a033\u00a0,\u00a035        02    \u00b5L\n",
        "22   712  2014/10/09  02\u00a0,\u00a006\u00a0,\u00a007\u00a0,\u00a008\u00a0,\u00a009\u00a0,\u00a038        08    \u00b5L\n",
        "23   711  2014/10/06  15\u00a0,\u00a020\u00a0,\u00a022\u00a0,\u00a025\u00a0,\u00a033\u00a0,\u00a035        07    \u00b5L\n",
        "24   710  2014/10/02  04\u00a0,\u00a012\u00a0,\u00a013\u00a0,\u00a026\u00a0,\u00a031\u00a0,\u00a033        06    \u00b5L\n",
        "25   709  2014/09/29  02\u00a0,\u00a008\u00a0,\u00a015\u00a0,\u00a027\u00a0,\u00a028\u00a0,\u00a036        07    \u00b5L\n",
        "26   708  2014/09/25  10\u00a0,\u00a012\u00a0,\u00a022\u00a0,\u00a026\u00a0,\u00a028\u00a0,\u00a036        08    \u00b5L\n",
        "27   707  2014/09/22  08\u00a0,\u00a015\u00a0,\u00a018\u00a0,\u00a023\u00a0,\u00a031\u00a0,\u00a037        08    \u00b5L\n",
        "28   706  2014/09/18  05\u00a0,\u00a010\u00a0,\u00a015\u00a0,\u00a023\u00a0,\u00a024\u00a0,\u00a035        06    \u00b5L\n",
        "29   705  2014/09/15  03\u00a0,\u00a014\u00a0,\u00a015\u00a0,\u00a020\u00a0,\u00a021\u00a0,\u00a028        08    \u00b5L\n",
        "30   704  2014/09/11  05\u00a0,\u00a007\u00a0,\u00a015\u00a0,\u00a025\u00a0,\u00a029\u00a0,\u00a037        08    \u00b5L"
       ]
      }
     ],
     "prompt_number": 96
    },
    {
     "cell_type": "markdown",
     "metadata": {},
     "source": [
      "WOW!! \u9019\u771f\u7684\u592a\u795e\u5947\u4e86, \u6211\u5011\u5c45\u7136\u9019\u6a23\u5c31\u8b80\u5165\u4e00\u500b\u7db2\u9801\u7684\u8cc7\u6599!!"
     ]
    },
    {
     "cell_type": "markdown",
     "metadata": {},
     "source": [
      "### 5-3 Pandas \u7684\u57fa\u672c\u8cc7\u6599\u7d50\u69cb\n",
      "\n",
      "Pandas \u6709\u5169\u500b\u57fa\u672c\u8cc7\u6599\u7d50\u69cb:\n",
      "\n",
      "* <b style=\"color:red;\">DataFrame</b>: \u53ef\u4ee5\u60f3\u6210\u4e00\u500b\u8868\u683c\u3002\n",
      "* <b style=\"color:red;\">Series</b>: \u8868\u683c\u7684\u67d0\u4e00\u5217\u3001\u67d0\u4e00\u884c, \u57fa\u672c\u4e0a\u5c31\u662f\u6211\u5011\u4ee5\u524d\u7684 list \u6216 array"
     ]
    },
    {
     "cell_type": "markdown",
     "metadata": {},
     "source": [
      "\u6211\u5011\u8981 dfs \u4e2d 1 \u865f\u8868\u683c, \u4e0d\u8981\u6700\u524d\u9762\u90a3\u4e00\u5217 (\u4e82\u78bc\u5b57), \u7136\u5f8c\u8981\n",
      "\n",
      "    0, 1, 2, 3\n",
      "    \n",
      "\u56db\u884c\u5c31\u597d\u3002"
     ]
    },
    {
     "cell_type": "code",
     "collapsed": false,
     "input": [
      "lotto = dfs[1][1:][[0,1,2,3]]"
     ],
     "language": "python",
     "metadata": {},
     "outputs": [],
     "prompt_number": 130
    },
    {
     "cell_type": "markdown",
     "metadata": {},
     "source": [
      "\u7576\u7136, \u6539\u6210\u6211\u5011\u8981\u7684 column names \u662f\u6c92\u6709\u554f\u984c\u7684\u3002"
     ]
    },
    {
     "cell_type": "code",
     "collapsed": false,
     "input": [
      "lotto.columns = [\"\u671f\u6578\", \"\u958b\u734e\u65e5\u671f\", \"\u7b2c\u4e00\u5340\u4e2d\u734e\u865f\u78bc\", \"\u7b2c\u4e8c\u5340\u865f\"]"
     ],
     "language": "python",
     "metadata": {},
     "outputs": [],
     "prompt_number": 110
    },
    {
     "cell_type": "code",
     "collapsed": false,
     "input": [
      "lotto"
     ],
     "language": "python",
     "metadata": {},
     "outputs": [
      {
       "html": [
        "<div style=\"max-height:1000px;max-width:1500px;overflow:auto;\">\n",
        "<table border=\"1\" class=\"dataframe\">\n",
        "  <thead>\n",
        "    <tr style=\"text-align: right;\">\n",
        "      <th></th>\n",
        "      <th>\u671f\u6578</th>\n",
        "      <th>\u958b\u734e\u65e5\u671f</th>\n",
        "      <th>\u7b2c\u4e00\u5340\u4e2d\u734e\u865f\u78bc</th>\n",
        "      <th>\u7b2c\u4e8c\u5340\u865f</th>\n",
        "    </tr>\n",
        "  </thead>\n",
        "  <tbody>\n",
        "    <tr>\n",
        "      <th>1 </th>\n",
        "      <td> 733</td>\n",
        "      <td> 2014/12/22</td>\n",
        "      <td> 01\u00a0,\u00a004\u00a0,\u00a005\u00a0,\u00a013\u00a0,\u00a019\u00a0,\u00a037</td>\n",
        "      <td> 02</td>\n",
        "    </tr>\n",
        "    <tr>\n",
        "      <th>2 </th>\n",
        "      <td> 732</td>\n",
        "      <td> 2014/12/18</td>\n",
        "      <td> 01\u00a0,\u00a005\u00a0,\u00a018\u00a0,\u00a020\u00a0,\u00a026\u00a0,\u00a029</td>\n",
        "      <td> 05</td>\n",
        "    </tr>\n",
        "    <tr>\n",
        "      <th>3 </th>\n",
        "      <td> 731</td>\n",
        "      <td> 2014/12/15</td>\n",
        "      <td> 05\u00a0,\u00a010\u00a0,\u00a011\u00a0,\u00a015\u00a0,\u00a036\u00a0,\u00a038</td>\n",
        "      <td> 06</td>\n",
        "    </tr>\n",
        "    <tr>\n",
        "      <th>4 </th>\n",
        "      <td> 730</td>\n",
        "      <td> 2014/12/11</td>\n",
        "      <td> 07\u00a0,\u00a012\u00a0,\u00a013\u00a0,\u00a021\u00a0,\u00a024\u00a0,\u00a028</td>\n",
        "      <td> 06</td>\n",
        "    </tr>\n",
        "    <tr>\n",
        "      <th>5 </th>\n",
        "      <td> 729</td>\n",
        "      <td> 2014/12/08</td>\n",
        "      <td> 11\u00a0,\u00a020\u00a0,\u00a024\u00a0,\u00a027\u00a0,\u00a035\u00a0,\u00a038</td>\n",
        "      <td> 08</td>\n",
        "    </tr>\n",
        "    <tr>\n",
        "      <th>6 </th>\n",
        "      <td> 728</td>\n",
        "      <td> 2014/12/04</td>\n",
        "      <td> 02\u00a0,\u00a005\u00a0,\u00a007\u00a0,\u00a011\u00a0,\u00a022\u00a0,\u00a036</td>\n",
        "      <td> 06</td>\n",
        "    </tr>\n",
        "    <tr>\n",
        "      <th>7 </th>\n",
        "      <td> 727</td>\n",
        "      <td> 2014/12/01</td>\n",
        "      <td> 01\u00a0,\u00a002\u00a0,\u00a007\u00a0,\u00a014\u00a0,\u00a019\u00a0,\u00a031</td>\n",
        "      <td> 07</td>\n",
        "    </tr>\n",
        "    <tr>\n",
        "      <th>8 </th>\n",
        "      <td> 726</td>\n",
        "      <td> 2014/11/27</td>\n",
        "      <td> 01\u00a0,\u00a002\u00a0,\u00a021\u00a0,\u00a029\u00a0,\u00a033\u00a0,\u00a036</td>\n",
        "      <td> 08</td>\n",
        "    </tr>\n",
        "    <tr>\n",
        "      <th>9 </th>\n",
        "      <td> 725</td>\n",
        "      <td> 2014/11/24</td>\n",
        "      <td> 03\u00a0,\u00a005\u00a0,\u00a019\u00a0,\u00a022\u00a0,\u00a024\u00a0,\u00a032</td>\n",
        "      <td> 02</td>\n",
        "    </tr>\n",
        "    <tr>\n",
        "      <th>10</th>\n",
        "      <td> 724</td>\n",
        "      <td> 2014/11/20</td>\n",
        "      <td> 12\u00a0,\u00a017\u00a0,\u00a030\u00a0,\u00a031\u00a0,\u00a033\u00a0,\u00a035</td>\n",
        "      <td> 04</td>\n",
        "    </tr>\n",
        "    <tr>\n",
        "      <th>11</th>\n",
        "      <td> 723</td>\n",
        "      <td> 2014/11/17</td>\n",
        "      <td> 05\u00a0,\u00a006\u00a0,\u00a013\u00a0,\u00a024\u00a0,\u00a032\u00a0,\u00a034</td>\n",
        "      <td> 01</td>\n",
        "    </tr>\n",
        "    <tr>\n",
        "      <th>12</th>\n",
        "      <td> 722</td>\n",
        "      <td> 2014/11/13</td>\n",
        "      <td> 12\u00a0,\u00a014\u00a0,\u00a015\u00a0,\u00a017\u00a0,\u00a027\u00a0,\u00a035</td>\n",
        "      <td> 06</td>\n",
        "    </tr>\n",
        "    <tr>\n",
        "      <th>13</th>\n",
        "      <td> 721</td>\n",
        "      <td> 2014/11/10</td>\n",
        "      <td> 01\u00a0,\u00a006\u00a0,\u00a014\u00a0,\u00a017\u00a0,\u00a031\u00a0,\u00a034</td>\n",
        "      <td> 08</td>\n",
        "    </tr>\n",
        "    <tr>\n",
        "      <th>14</th>\n",
        "      <td> 720</td>\n",
        "      <td> 2014/11/06</td>\n",
        "      <td> 05\u00a0,\u00a015\u00a0,\u00a019\u00a0,\u00a020\u00a0,\u00a032\u00a0,\u00a036</td>\n",
        "      <td> 03</td>\n",
        "    </tr>\n",
        "    <tr>\n",
        "      <th>15</th>\n",
        "      <td> 719</td>\n",
        "      <td> 2014/11/03</td>\n",
        "      <td> 02\u00a0,\u00a006\u00a0,\u00a008\u00a0,\u00a011\u00a0,\u00a026\u00a0,\u00a038</td>\n",
        "      <td> 07</td>\n",
        "    </tr>\n",
        "    <tr>\n",
        "      <th>16</th>\n",
        "      <td> 718</td>\n",
        "      <td> 2014/10/30</td>\n",
        "      <td> 06\u00a0,\u00a008\u00a0,\u00a009\u00a0,\u00a010\u00a0,\u00a027\u00a0,\u00a034</td>\n",
        "      <td> 06</td>\n",
        "    </tr>\n",
        "    <tr>\n",
        "      <th>17</th>\n",
        "      <td> 717</td>\n",
        "      <td> 2014/10/27</td>\n",
        "      <td> 07\u00a0,\u00a009\u00a0,\u00a010\u00a0,\u00a024\u00a0,\u00a037\u00a0,\u00a038</td>\n",
        "      <td> 08</td>\n",
        "    </tr>\n",
        "    <tr>\n",
        "      <th>18</th>\n",
        "      <td> 716</td>\n",
        "      <td> 2014/10/23</td>\n",
        "      <td> 08\u00a0,\u00a012\u00a0,\u00a027\u00a0,\u00a028\u00a0,\u00a035\u00a0,\u00a038</td>\n",
        "      <td> 06</td>\n",
        "    </tr>\n",
        "    <tr>\n",
        "      <th>19</th>\n",
        "      <td> 715</td>\n",
        "      <td> 2014/10/20</td>\n",
        "      <td> 11\u00a0,\u00a021\u00a0,\u00a025\u00a0,\u00a030\u00a0,\u00a034\u00a0,\u00a037</td>\n",
        "      <td> 01</td>\n",
        "    </tr>\n",
        "    <tr>\n",
        "      <th>20</th>\n",
        "      <td> 714</td>\n",
        "      <td> 2014/10/16</td>\n",
        "      <td> 09\u00a0,\u00a011\u00a0,\u00a012\u00a0,\u00a020\u00a0,\u00a024\u00a0,\u00a030</td>\n",
        "      <td> 02</td>\n",
        "    </tr>\n",
        "    <tr>\n",
        "      <th>21</th>\n",
        "      <td> 713</td>\n",
        "      <td> 2014/10/13</td>\n",
        "      <td> 03\u00a0,\u00a019\u00a0,\u00a026\u00a0,\u00a030\u00a0,\u00a033\u00a0,\u00a035</td>\n",
        "      <td> 02</td>\n",
        "    </tr>\n",
        "    <tr>\n",
        "      <th>22</th>\n",
        "      <td> 712</td>\n",
        "      <td> 2014/10/09</td>\n",
        "      <td> 02\u00a0,\u00a006\u00a0,\u00a007\u00a0,\u00a008\u00a0,\u00a009\u00a0,\u00a038</td>\n",
        "      <td> 08</td>\n",
        "    </tr>\n",
        "    <tr>\n",
        "      <th>23</th>\n",
        "      <td> 711</td>\n",
        "      <td> 2014/10/06</td>\n",
        "      <td> 15\u00a0,\u00a020\u00a0,\u00a022\u00a0,\u00a025\u00a0,\u00a033\u00a0,\u00a035</td>\n",
        "      <td> 07</td>\n",
        "    </tr>\n",
        "    <tr>\n",
        "      <th>24</th>\n",
        "      <td> 710</td>\n",
        "      <td> 2014/10/02</td>\n",
        "      <td> 04\u00a0,\u00a012\u00a0,\u00a013\u00a0,\u00a026\u00a0,\u00a031\u00a0,\u00a033</td>\n",
        "      <td> 06</td>\n",
        "    </tr>\n",
        "    <tr>\n",
        "      <th>25</th>\n",
        "      <td> 709</td>\n",
        "      <td> 2014/09/29</td>\n",
        "      <td> 02\u00a0,\u00a008\u00a0,\u00a015\u00a0,\u00a027\u00a0,\u00a028\u00a0,\u00a036</td>\n",
        "      <td> 07</td>\n",
        "    </tr>\n",
        "    <tr>\n",
        "      <th>26</th>\n",
        "      <td> 708</td>\n",
        "      <td> 2014/09/25</td>\n",
        "      <td> 10\u00a0,\u00a012\u00a0,\u00a022\u00a0,\u00a026\u00a0,\u00a028\u00a0,\u00a036</td>\n",
        "      <td> 08</td>\n",
        "    </tr>\n",
        "    <tr>\n",
        "      <th>27</th>\n",
        "      <td> 707</td>\n",
        "      <td> 2014/09/22</td>\n",
        "      <td> 08\u00a0,\u00a015\u00a0,\u00a018\u00a0,\u00a023\u00a0,\u00a031\u00a0,\u00a037</td>\n",
        "      <td> 08</td>\n",
        "    </tr>\n",
        "    <tr>\n",
        "      <th>28</th>\n",
        "      <td> 706</td>\n",
        "      <td> 2014/09/18</td>\n",
        "      <td> 05\u00a0,\u00a010\u00a0,\u00a015\u00a0,\u00a023\u00a0,\u00a024\u00a0,\u00a035</td>\n",
        "      <td> 06</td>\n",
        "    </tr>\n",
        "    <tr>\n",
        "      <th>29</th>\n",
        "      <td> 705</td>\n",
        "      <td> 2014/09/15</td>\n",
        "      <td> 03\u00a0,\u00a014\u00a0,\u00a015\u00a0,\u00a020\u00a0,\u00a021\u00a0,\u00a028</td>\n",
        "      <td> 08</td>\n",
        "    </tr>\n",
        "    <tr>\n",
        "      <th>30</th>\n",
        "      <td> 704</td>\n",
        "      <td> 2014/09/11</td>\n",
        "      <td> 05\u00a0,\u00a007\u00a0,\u00a015\u00a0,\u00a025\u00a0,\u00a029\u00a0,\u00a037</td>\n",
        "      <td> 08</td>\n",
        "    </tr>\n",
        "  </tbody>\n",
        "</table>\n",
        "</div>"
       ],
       "metadata": {},
       "output_type": "pyout",
       "prompt_number": 111,
       "text": [
        "     \u671f\u6578        \u958b\u734e\u65e5\u671f                      \u7b2c\u4e00\u5340\u4e2d\u734e\u865f\u78bc \u7b2c\u4e8c\u5340\u865f\n",
        "1   733  2014/12/22  01\u00a0,\u00a004\u00a0,\u00a005\u00a0,\u00a013\u00a0,\u00a019\u00a0,\u00a037   02\n",
        "2   732  2014/12/18  01\u00a0,\u00a005\u00a0,\u00a018\u00a0,\u00a020\u00a0,\u00a026\u00a0,\u00a029   05\n",
        "3   731  2014/12/15  05\u00a0,\u00a010\u00a0,\u00a011\u00a0,\u00a015\u00a0,\u00a036\u00a0,\u00a038   06\n",
        "4   730  2014/12/11  07\u00a0,\u00a012\u00a0,\u00a013\u00a0,\u00a021\u00a0,\u00a024\u00a0,\u00a028   06\n",
        "5   729  2014/12/08  11\u00a0,\u00a020\u00a0,\u00a024\u00a0,\u00a027\u00a0,\u00a035\u00a0,\u00a038   08\n",
        "6   728  2014/12/04  02\u00a0,\u00a005\u00a0,\u00a007\u00a0,\u00a011\u00a0,\u00a022\u00a0,\u00a036   06\n",
        "7   727  2014/12/01  01\u00a0,\u00a002\u00a0,\u00a007\u00a0,\u00a014\u00a0,\u00a019\u00a0,\u00a031   07\n",
        "8   726  2014/11/27  01\u00a0,\u00a002\u00a0,\u00a021\u00a0,\u00a029\u00a0,\u00a033\u00a0,\u00a036   08\n",
        "9   725  2014/11/24  03\u00a0,\u00a005\u00a0,\u00a019\u00a0,\u00a022\u00a0,\u00a024\u00a0,\u00a032   02\n",
        "10  724  2014/11/20  12\u00a0,\u00a017\u00a0,\u00a030\u00a0,\u00a031\u00a0,\u00a033\u00a0,\u00a035   04\n",
        "11  723  2014/11/17  05\u00a0,\u00a006\u00a0,\u00a013\u00a0,\u00a024\u00a0,\u00a032\u00a0,\u00a034   01\n",
        "12  722  2014/11/13  12\u00a0,\u00a014\u00a0,\u00a015\u00a0,\u00a017\u00a0,\u00a027\u00a0,\u00a035   06\n",
        "13  721  2014/11/10  01\u00a0,\u00a006\u00a0,\u00a014\u00a0,\u00a017\u00a0,\u00a031\u00a0,\u00a034   08\n",
        "14  720  2014/11/06  05\u00a0,\u00a015\u00a0,\u00a019\u00a0,\u00a020\u00a0,\u00a032\u00a0,\u00a036   03\n",
        "15  719  2014/11/03  02\u00a0,\u00a006\u00a0,\u00a008\u00a0,\u00a011\u00a0,\u00a026\u00a0,\u00a038   07\n",
        "16  718  2014/10/30  06\u00a0,\u00a008\u00a0,\u00a009\u00a0,\u00a010\u00a0,\u00a027\u00a0,\u00a034   06\n",
        "17  717  2014/10/27  07\u00a0,\u00a009\u00a0,\u00a010\u00a0,\u00a024\u00a0,\u00a037\u00a0,\u00a038   08\n",
        "18  716  2014/10/23  08\u00a0,\u00a012\u00a0,\u00a027\u00a0,\u00a028\u00a0,\u00a035\u00a0,\u00a038   06\n",
        "19  715  2014/10/20  11\u00a0,\u00a021\u00a0,\u00a025\u00a0,\u00a030\u00a0,\u00a034\u00a0,\u00a037   01\n",
        "20  714  2014/10/16  09\u00a0,\u00a011\u00a0,\u00a012\u00a0,\u00a020\u00a0,\u00a024\u00a0,\u00a030   02\n",
        "21  713  2014/10/13  03\u00a0,\u00a019\u00a0,\u00a026\u00a0,\u00a030\u00a0,\u00a033\u00a0,\u00a035   02\n",
        "22  712  2014/10/09  02\u00a0,\u00a006\u00a0,\u00a007\u00a0,\u00a008\u00a0,\u00a009\u00a0,\u00a038   08\n",
        "23  711  2014/10/06  15\u00a0,\u00a020\u00a0,\u00a022\u00a0,\u00a025\u00a0,\u00a033\u00a0,\u00a035   07\n",
        "24  710  2014/10/02  04\u00a0,\u00a012\u00a0,\u00a013\u00a0,\u00a026\u00a0,\u00a031\u00a0,\u00a033   06\n",
        "25  709  2014/09/29  02\u00a0,\u00a008\u00a0,\u00a015\u00a0,\u00a027\u00a0,\u00a028\u00a0,\u00a036   07\n",
        "26  708  2014/09/25  10\u00a0,\u00a012\u00a0,\u00a022\u00a0,\u00a026\u00a0,\u00a028\u00a0,\u00a036   08\n",
        "27  707  2014/09/22  08\u00a0,\u00a015\u00a0,\u00a018\u00a0,\u00a023\u00a0,\u00a031\u00a0,\u00a037   08\n",
        "28  706  2014/09/18  05\u00a0,\u00a010\u00a0,\u00a015\u00a0,\u00a023\u00a0,\u00a024\u00a0,\u00a035   06\n",
        "29  705  2014/09/15  03\u00a0,\u00a014\u00a0,\u00a015\u00a0,\u00a020\u00a0,\u00a021\u00a0,\u00a028   08\n",
        "30  704  2014/09/11  05\u00a0,\u00a007\u00a0,\u00a015\u00a0,\u00a025\u00a0,\u00a029\u00a0,\u00a037   08"
       ]
      }
     ],
     "prompt_number": 111
    },
    {
     "cell_type": "markdown",
     "metadata": {},
     "source": [
      "\u5e38\u5e38\u770b\u8d77\u4f86\u50cf\u6578\u5b57\u7684\u5176\u5be6\u662f\u6587\u5b57 (\u4e8b\u5be6\u4e0a\u662f objects), \u6211\u5011\u8981\u8655\u7406\u4e00\u4e0b\u624d\u80fd\u756b\u5716\u3001\u5206\u6790\u3002"
     ]
    },
    {
     "cell_type": "code",
     "collapsed": false,
     "input": [
      "lotto[\"\u7b2c\u4e8c\u5340\u865f\"].astype(int8).plot()"
     ],
     "language": "python",
     "metadata": {},
     "outputs": [
      {
       "metadata": {},
       "output_type": "pyout",
       "prompt_number": 125,
       "text": [
        "<matplotlib.axes.AxesSubplot at 0x10b737d90>"
       ]
      },
      {
       "metadata": {},
       "output_type": "display_data",
       "png": "[encoded data removed]",
       "text": [
        "<matplotlib.figure.Figure at 0x10b762890>"
       ]
      }
     ],
     "prompt_number": 125
    },
    {
     "cell_type": "markdown",
     "metadata": {},
     "source": [
      "\u7576\u7136, \u6c38\u4e45\u8b8a\u6210\u6211\u5011\u8981\u7684\u8cc7\u6599\u578b\u614b\u53ef\u80fd\u66f4\u597d\u3002"
     ]
    },
    {
     "cell_type": "code",
     "collapsed": false,
     "input": [
      "lotto[\"\u7b2c\u4e8c\u5340\u865f\"] = lotto['\u7b2c\u4e8c\u5340\u865f'].apply(lambda x: int(x))"
     ],
     "language": "python",
     "metadata": {},
     "outputs": [],
     "prompt_number": 126
    },
    {
     "cell_type": "code",
     "collapsed": false,
     "input": [
      "lotto[\"\u7b2c\u4e8c\u5340\u865f\"].hist(bins=15)"
     ],
     "language": "python",
     "metadata": {},
     "outputs": [
      {
       "metadata": {},
       "output_type": "pyout",
       "prompt_number": 127,
       "text": [
        "<matplotlib.axes.AxesSubplot at 0x10b87f550>"
       ]
      },
      {
       "metadata": {},
       "output_type": "display_data",
       "png": "[encoded data removed]",
       "text": [
        "<matplotlib.figure.Figure at 0x10728af50>"
       ]
      }
     ],
     "prompt_number": 127
    },
    {
     "cell_type": "markdown",
     "metadata": {},
     "source": [
      "### \u5ef6\u4f38\u5b78\u7fd2\n",
      "\n",
      "Julia Evans \u662f\u52a0\u62ff\u5927\u4e00\u4f4d\u5c08\u696d\u8cc7\u6599\u5206\u6790\u5e2b, \u5979\u7528\u5be6\u969b\u7684\u4f8b\u5b50\u4ecb\u7d39 Pandas (\u9084\u6709 IPython!) \u7c21\u77ed\u6709\u8da3, \u975e\u5e38\u63a8\u85a6!\n",
      "\n",
      "[Diving into Open Data with IPython & Pandas (YouTube)](http://youtu.be/rEalbu8UGeo)"
     ]
    },
    {
     "cell_type": "markdown",
     "metadata": {},
     "source": [
      "## 6. \u5feb\u901f\u7c21\u55ae GUI \u754c\u9762!!\n",
      "\n",
      "\u6211\u5011\u4f86\u4ecb\u7d39 IPython 2.0 \u8d77\u975e\u5e38\u70ab\u7684\u4e92\u52d5\u529f\u80fd\u3002"
     ]
    },
    {
     "cell_type": "code",
     "collapsed": false,
     "input": [
      "from IPython.html.widgets import interact"
     ],
     "language": "python",
     "metadata": {},
     "outputs": [],
     "prompt_number": 135
    },
    {
     "cell_type": "markdown",
     "metadata": {},
     "source": [
      "\u6211\u5011\u96a8\u4fbf\u4f86\u500b\u51fd\u6578\u3002"
     ]
    },
    {
     "cell_type": "code",
     "collapsed": false,
     "input": [
      "def f(x):\n",
      "    print x"
     ],
     "language": "python",
     "metadata": {},
     "outputs": [],
     "prompt_number": 136
    },
    {
     "cell_type": "markdown",
     "metadata": {},
     "source": [
      "\u4ec0\u9ebc? \u9019\u6a23\u5c31\u53ef\u4ee5\u4e92\u52d5!!??"
     ]
    },
    {
     "cell_type": "code",
     "collapsed": false,
     "input": [
      "interact(f, x=3);"
     ],
     "language": "python",
     "metadata": {},
     "outputs": [
      {
       "output_type": "stream",
       "stream": "stdout",
       "text": [
        "6\n"
       ]
      }
     ],
     "prompt_number": 140
    },
    {
     "cell_type": "markdown",
     "metadata": {},
     "source": [
      "\u6709\u8da3\u7684\u662f, \u6211\u5011\u6539\u8b8a x \u7684\u5b9a\u6cd5, \u5c31\u53ef\u4ee5\u6709\u4e0d\u540c GUI \u754c\u9762! \u8a66\u8a66:\n",
      "\n",
      "* x=3.\n",
      "* x=(1,15)\n",
      "* x=u\"\u4f60\u597d\"\n",
      "* x=[u\"\u53f0\u5317\u5e02\", u\"\u53f0\u4e2d\u5e02\"]\n",
      "* x={u\"\u53f0\u5317\u5e02\":\"02\", u\"\u53f0\u4e2d\u5e02\":\"04\"}"
     ]
    },
    {
     "cell_type": "code",
     "collapsed": false,
     "input": [
      "interact(f, x={u\"\u53f0\u5317\u5e02\":\"02\", u\"\u53f0\u4e2d\u5e02\":\"04\"});"
     ],
     "language": "python",
     "metadata": {},
     "outputs": [
      {
       "output_type": "stream",
       "stream": "stdout",
       "text": [
        "02\n"
       ]
      }
     ],
     "prompt_number": 150
    },
    {
     "cell_type": "markdown",
     "metadata": {},
     "source": [
      "\u505a\u500b\u771f\u7684\u6709\u8a8d\u771f\u505a\u4e8b\u7684\u51fd\u6578\u3002"
     ]
    },
    {
     "cell_type": "code",
     "collapsed": false,
     "input": [
      "def move(x):\n",
      "    print \" \"*x + \"ooo\""
     ],
     "language": "python",
     "metadata": {},
     "outputs": [],
     "prompt_number": 149
    },
    {
     "cell_type": "code",
     "collapsed": false,
     "input": [
      "interact(move, x=(0,40));"
     ],
     "language": "python",
     "metadata": {},
     "outputs": [
      {
       "output_type": "stream",
       "stream": "stdout",
       "text": [
        "                   ooo\n"
       ]
      }
     ],
     "prompt_number": 154
    },
    {
     "cell_type": "markdown",
     "metadata": {},
     "source": [
      "## 7. SymPy \u7528\u6211\u5011\u7684\u65b9\u5f0f\u8a08\u7b97\n",
      "\n",
      "\u5728 Python \u4e2d\u6709\u6c92\u6709\u53ef\u4ee5\u505a\u7b26\u865f\u8a08\u7b97\u7684\u5de5\u5177\u5462?"
     ]
    },
    {
     "cell_type": "code",
     "collapsed": false,
     "input": [
      "from sympy import *"
     ],
     "language": "python",
     "metadata": {},
     "outputs": [],
     "prompt_number": 131
    },
    {
     "cell_type": "markdown",
     "metadata": {},
     "source": [
      "\u8b93\u5370\u51fa\u4f86\u7684\u5f0f\u5b50\u7f8e\u4e00\u9ede\u3002"
     ]
    },
    {
     "cell_type": "code",
     "collapsed": false,
     "input": [
      "init_printing()"
     ],
     "language": "python",
     "metadata": {},
     "outputs": [],
     "prompt_number": 132
    },
    {
     "cell_type": "code",
     "collapsed": false,
     "input": [
      "x = symbols(\"x\")"
     ],
     "language": "python",
     "metadata": {},
     "outputs": [],
     "prompt_number": 156
    },
    {
     "cell_type": "code",
     "collapsed": false,
     "input": [
      "integrate(1/(x**2-1))"
     ],
     "language": "python",
     "metadata": {},
     "outputs": [
      {
       "latex": [
        "$$\\frac{1}{2} \\log{\\left (x - 1 \\right )} - \\frac{1}{2} \\log{\\left (x + 1 \\right )}$$"
       ],
       "metadata": {},
       "output_type": "pyout",
       "png": "[encoded data removed]",
       "prompt_number": 162,
       "text": [
        "log(x - 1)   log(x + 1)\n",
        "\u2500\u2500\u2500\u2500\u2500\u2500\u2500\u2500\u2500\u2500 - \u2500\u2500\u2500\u2500\u2500\u2500\u2500\u2500\u2500\u2500\n",
        "    2            2     "
       ]
      }
     ],
     "prompt_number": 162
    },
    {
     "cell_type": "code",
     "collapsed": false,
     "input": [
      "integrate(1/(x**2-1), (x, 2,3))"
     ],
     "language": "python",
     "metadata": {},
     "outputs": [
      {
       "latex": [
        "$$- \\frac{1}{2} \\log{\\left (4 \\right )} + \\frac{1}{2} \\log{\\left (2 \\right )} + \\frac{1}{2} \\log{\\left (3 \\right )}$$"
       ],
       "metadata": {},
       "output_type": "pyout",
       "png": "[encoded data removed]",
       "prompt_number": 163,
       "text": [
        "  log(4)   log(2)   log(3)\n",
        "- \u2500\u2500\u2500\u2500\u2500\u2500 + \u2500\u2500\u2500\u2500\u2500\u2500 + \u2500\u2500\u2500\u2500\u2500\u2500\n",
        "    2        2        2   "
       ]
      }
     ],
     "prompt_number": 163
    },
    {
     "cell_type": "code",
     "collapsed": false,
     "input": [
      "Integral(1/(x**2-1), (x,2,3))"
     ],
     "language": "python",
     "metadata": {},
     "outputs": [
      {
       "latex": [
        "$$\\int_{2}^{3} \\frac{1}{x^{2} - 1}\\, dx$$"
       ],
       "metadata": {},
       "output_type": "pyout",
       "png": "[encoded data removed]",
       "prompt_number": 164,
       "text": [
        "3          \n",
        "\u2320          \n",
        "\u23ae   1      \n",
        "\u23ae \u2500\u2500\u2500\u2500\u2500\u2500 dx\n",
        "\u23ae  2       \n",
        "\u23ae x  - 1   \n",
        "\u2321          \n",
        "2          "
       ]
      }
     ],
     "prompt_number": 164
    },
    {
     "cell_type": "code",
     "collapsed": false,
     "input": [
      "def ntaylor(n):\n",
      "    expr = sin(x).series(x,0,n).removeO()\n",
      "    display(expr)\n",
      "    f = lambdify(x, expr, \"numpy\")\n",
      "    a = linspace(-10,10,300)\n",
      "    plt.plot(a, f(a));\n",
      "    plt.ylim(-1,1);"
     ],
     "language": "python",
     "metadata": {},
     "outputs": [],
     "prompt_number": 165
    },
    {
     "cell_type": "code",
     "collapsed": false,
     "input": [
      "interact(ntaylor, n = (1,30));"
     ],
     "language": "python",
     "metadata": {},
     "outputs": [
      {
       "latex": [
        "$$- \\frac{x^{3}}{6} + x$$"
       ],
       "metadata": {},
       "output_type": "display_data",
       "png": "[encoded data removed]",
       "text": [
        "   3    \n",
        "  x     \n",
        "- \u2500\u2500 + x\n",
        "  6     "
       ]
      },
      {
       "metadata": {},
       "output_type": "display_data",
       "png": "[encoded data removed]",
       "text": [
        "<matplotlib.figure.Figure at 0x10d9cea50>"
       ]
      }
     ],
     "prompt_number": 166
    },
    {
     "cell_type": "markdown",
     "metadata": {},
     "source": [
      "## 8. \u5f9e\u4f86\u6c92\u90a3\u9ebc\u5feb\u7684 3D!!\n",
      "\n",
      "VPython \u662f\u4e00\u500b\u975e\u5e38\u9177\u7684\u7a0b\u5f0f, \u5f88\u5bb9\u6613\u505a\u51fa 3D \u52d5\u756b\u3002\u8acb\u53c3\u8003\u6211\u4ecb\u7d39\u7684\u65b9\u5f0f\u5728 Anaconda \u74b0\u5883\u4e0b\u88dd VPython:\n",
      "\n",
      "[\u5404\u7a2e\u79d1\u5b78\u5957\u4ef6\u5916\u52a0 VPython](http://yenlungblog.wordpress.com/2014/05/25/python-%E5%90%84%E7%A8%AE%E7%A7%91%E5%AD%B8%E5%A5%97%E4%BB%B6%E5%A4%96%E5%8A%A0-vpython-%E9%87%8D%E7%8F%BE-mac/)\n",
      "\n",
      "\u5728 IPython Notebook \u7528 VPython, \u6211\u5011\u9084\u9700\u8981\u4e00\u500b\u5957\u4ef6\u3002\n",
      "\n",
      "[IVisual](https://pypi.python.org/pypi/IVisual/0.1.87)\n",
      "\n",
      "\u5f88\u907a\u61be\u9019\u500b\u5957\u4ef6\u5728\u6211\u5b89\u88dd\u6642\u9084\u9700\u8981\u6700\u539f\u59cb\u7684\u65b9\u5f0f, \u4e5f\u5c31\u662f\u57f7\u884c:\n",
      "\n",
      "    setup.py\n",
      "\n",
      "\u53bb\u5b89\u88dd\u3002"
     ]
    },
    {
     "cell_type": "code",
     "collapsed": false,
     "input": [
      "from ivisual import *\n",
      "\n",
      "s = sphere(color=color.red)"
     ],
     "language": "python",
     "metadata": {},
     "outputs": [
      {
       "html": [
        "<div id=\"scene\"><div id=\"glowscript\" class=\"glowscript\"></div></div>"
       ],
       "metadata": {},
       "output_type": "display_data",
       "text": [
        "<IPython.core.display.HTML at 0x10da52950>"
       ]
      },
      {
       "javascript": [
        "require.undef(\"nbextensions/glow.1.0.min\");"
       ],
       "metadata": {},
       "output_type": "display_data",
       "text": [
        "<IPython.core.display.Javascript at 0x10cd3a150>"
       ]
      },
      {
       "javascript": [
        "require.undef(\"nbextensions/glowcomm\");"
       ],
       "metadata": {},
       "output_type": "display_data",
       "text": [
        "<IPython.core.display.Javascript at 0x10da52d50>"
       ]
      },
      {
       "javascript": [
        "require([\"nbextensions/glowcomm\"], function(){console.log(\"glowcomm loaded\");})"
       ],
       "metadata": {},
       "output_type": "display_data",
       "text": [
        "<IPython.core.display.Javascript at 0x10da525d0>"
       ]
      }
     ],
     "prompt_number": 167
    },
    {
     "cell_type": "code",
     "collapsed": false,
     "input": [],
     "language": "python",
     "metadata": {},
     "outputs": []
    }
   ],
   "metadata": {}
  }
 ]
}